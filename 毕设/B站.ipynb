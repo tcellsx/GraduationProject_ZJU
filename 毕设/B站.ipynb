{
 "cells": [
  {
   "cell_type": "code",
   "execution_count": 1,
   "id": "4301dad3",
   "metadata": {
    "scrolled": true
   },
   "outputs": [
    {
     "name": "stdout",
     "output_type": "stream",
     "text": [
      "^C\n",
      "Note: you may need to restart the kernel to use updated packages.\n"
     ]
    }
   ],
   "source": [
    "pip install bilibili-api-python"
   ]
  },
  {
   "cell_type": "code",
   "execution_count": 2,
   "id": "880dbd34",
   "metadata": {
    "scrolled": false
   },
   "outputs": [],
   "source": [
    "url = \"https://www.bilibili.com/video/BV1BH4y1S7BN/?spm_id_from=333.337.search-card.all.click&vd_source=73a6845b335f9dafa36abcbb76288082\""
   ]
  },
  {
   "cell_type": "code",
   "execution_count": 3,
   "id": "e56608d5",
   "metadata": {},
   "outputs": [],
   "source": [
    "chrome_options = Options()"
   ]
  },
  {
   "cell_type": "markdown",
   "id": "80c5e4e6",
   "metadata": {},
   "source": [
    "headers = {\n",
    "    \"User-Agent\":\"Mozilla/5.0 (Linux; Android 6.0; Nexus 5 Build/MRA58N) AppleWebKit/537.36 (KHTML, like Gecko) Chrome/123.0.0.0 Mobile Safari/537.36\"\n",
    "}"
   ]
  },
  {
   "cell_type": "code",
   "execution_count": 4,
   "id": "d9166a53",
   "metadata": {},
   "outputs": [],
   "source": [
    "chrome_options.add_argument(\"--disable-blink-features=AutomationControlled\")"
   ]
  },
  {
   "cell_type": "code",
   "execution_count": 5,
   "id": "de7089c9",
   "metadata": {},
   "outputs": [],
   "source": [
    "driver = webdriver.Chrome(options=chrome_options)"
   ]
  },
  {
   "cell_type": "code",
   "execution_count": 6,
   "id": "e9ff9414",
   "metadata": {},
   "outputs": [],
   "source": [
    "driver.get(url)"
   ]
  },
  {
   "cell_type": "code",
   "execution_count": 7,
   "id": "a7bc4d36",
   "metadata": {},
   "outputs": [],
   "source": [
    "from lxml import etree"
   ]
  },
  {
   "cell_type": "code",
   "execution_count": 8,
   "id": "dfb5e725",
   "metadata": {},
   "outputs": [],
   "source": [
    "from selenium.webdriver.common.by import By"
   ]
  },
  {
   "cell_type": "code",
   "execution_count": 9,
   "id": "b5d3b593",
   "metadata": {
    "scrolled": true
   },
   "outputs": [],
   "source": [
    "# comments_body = driver.find_element(By.XPATH,'/html/body/div[contains(@class,\"app-v1\")]/div[contains(@class,\"video-container-v1\")]/div[contains(@class,\"left-container scroll-sticky\")]/div[contains(@class,\"left-container-under-player\")]/div[contains(@class,\"comment-m-v1\")]/div[contains(@class,\"comment\")]/div[contains(@class,\"bili-comment browser-pc\")]/div[contains(@class,\"comment-container\")]/div[contains(@class,\"reply-warp\")]/div/div[2]/div[contains(@class,\"root-reply-container\")]/div[contains(@class,\"content-warp\")]/div[contains(@class,\"root-reply\")]/span[contains(@class,\"reply-content-container root-reply\")]/span[contains(@class,\"reply-content\")]')"
   ]
  },
  {
   "cell_type": "code",
   "execution_count": 19,
   "id": "89d6c225",
   "metadata": {
    "scrolled": false
   },
   "outputs": [
    {
     "name": "stdout",
     "output_type": "stream",
     "text": [
      "<selenium.webdriver.remote.webelement.WebElement (session=\"434a990862ec3048e3dd2d52158531c8\", element=\"f.6D5AC68A00649B51B6DF591C82C95944.d.3AC52BC12B3B1CEEA9CC65593DAF96A8.e.2309\")>\n",
      "<selenium.webdriver.remote.webelement.WebElement (session=\"434a990862ec3048e3dd2d52158531c8\", element=\"f.6D5AC68A00649B51B6DF591C82C95944.d.3AC52BC12B3B1CEEA9CC65593DAF96A8.e.2312\")>\n",
      "<selenium.webdriver.remote.webelement.WebElement (session=\"434a990862ec3048e3dd2d52158531c8\", element=\"f.6D5AC68A00649B51B6DF591C82C95944.d.3AC52BC12B3B1CEEA9CC65593DAF96A8.e.2314\")>\n",
      "<selenium.webdriver.remote.webelement.WebElement (session=\"434a990862ec3048e3dd2d52158531c8\", element=\"f.6D5AC68A00649B51B6DF591C82C95944.d.3AC52BC12B3B1CEEA9CC65593DAF96A8.e.2316\")>\n",
      "<selenium.webdriver.remote.webelement.WebElement (session=\"434a990862ec3048e3dd2d52158531c8\", element=\"f.6D5AC68A00649B51B6DF591C82C95944.d.3AC52BC12B3B1CEEA9CC65593DAF96A8.e.2318\")>\n",
      "<selenium.webdriver.remote.webelement.WebElement (session=\"434a990862ec3048e3dd2d52158531c8\", element=\"f.6D5AC68A00649B51B6DF591C82C95944.d.3AC52BC12B3B1CEEA9CC65593DAF96A8.e.2320\")>\n",
      "<selenium.webdriver.remote.webelement.WebElement (session=\"434a990862ec3048e3dd2d52158531c8\", element=\"f.6D5AC68A00649B51B6DF591C82C95944.d.3AC52BC12B3B1CEEA9CC65593DAF96A8.e.2323\")>\n",
      "<selenium.webdriver.remote.webelement.WebElement (session=\"434a990862ec3048e3dd2d52158531c8\", element=\"f.6D5AC68A00649B51B6DF591C82C95944.d.3AC52BC12B3B1CEEA9CC65593DAF96A8.e.2326\")>\n",
      "<selenium.webdriver.remote.webelement.WebElement (session=\"434a990862ec3048e3dd2d52158531c8\", element=\"f.6D5AC68A00649B51B6DF591C82C95944.d.3AC52BC12B3B1CEEA9CC65593DAF96A8.e.2329\")>\n",
      "<selenium.webdriver.remote.webelement.WebElement (session=\"434a990862ec3048e3dd2d52158531c8\", element=\"f.6D5AC68A00649B51B6DF591C82C95944.d.3AC52BC12B3B1CEEA9CC65593DAF96A8.e.2332\")>\n",
      "<selenium.webdriver.remote.webelement.WebElement (session=\"434a990862ec3048e3dd2d52158531c8\", element=\"f.6D5AC68A00649B51B6DF591C82C95944.d.3AC52BC12B3B1CEEA9CC65593DAF96A8.e.2335\")>\n",
      "<selenium.webdriver.remote.webelement.WebElement (session=\"434a990862ec3048e3dd2d52158531c8\", element=\"f.6D5AC68A00649B51B6DF591C82C95944.d.3AC52BC12B3B1CEEA9CC65593DAF96A8.e.2338\")>\n",
      "<selenium.webdriver.remote.webelement.WebElement (session=\"434a990862ec3048e3dd2d52158531c8\", element=\"f.6D5AC68A00649B51B6DF591C82C95944.d.3AC52BC12B3B1CEEA9CC65593DAF96A8.e.2341\")>\n",
      "<selenium.webdriver.remote.webelement.WebElement (session=\"434a990862ec3048e3dd2d52158531c8\", element=\"f.6D5AC68A00649B51B6DF591C82C95944.d.3AC52BC12B3B1CEEA9CC65593DAF96A8.e.2344\")>\n",
      "<selenium.webdriver.remote.webelement.WebElement (session=\"434a990862ec3048e3dd2d52158531c8\", element=\"f.6D5AC68A00649B51B6DF591C82C95944.d.3AC52BC12B3B1CEEA9CC65593DAF96A8.e.2347\")>\n",
      "<selenium.webdriver.remote.webelement.WebElement (session=\"434a990862ec3048e3dd2d52158531c8\", element=\"f.6D5AC68A00649B51B6DF591C82C95944.d.3AC52BC12B3B1CEEA9CC65593DAF96A8.e.2350\")>\n",
      "<selenium.webdriver.remote.webelement.WebElement (session=\"434a990862ec3048e3dd2d52158531c8\", element=\"f.6D5AC68A00649B51B6DF591C82C95944.d.3AC52BC12B3B1CEEA9CC65593DAF96A8.e.2353\")>\n",
      "<selenium.webdriver.remote.webelement.WebElement (session=\"434a990862ec3048e3dd2d52158531c8\", element=\"f.6D5AC68A00649B51B6DF591C82C95944.d.3AC52BC12B3B1CEEA9CC65593DAF96A8.e.2356\")>\n",
      "<selenium.webdriver.remote.webelement.WebElement (session=\"434a990862ec3048e3dd2d52158531c8\", element=\"f.6D5AC68A00649B51B6DF591C82C95944.d.3AC52BC12B3B1CEEA9CC65593DAF96A8.e.2359\")>\n",
      "<selenium.webdriver.remote.webelement.WebElement (session=\"434a990862ec3048e3dd2d52158531c8\", element=\"f.6D5AC68A00649B51B6DF591C82C95944.d.3AC52BC12B3B1CEEA9CC65593DAF96A8.e.2362\")>\n"
     ]
    }
   ],
   "source": [
    "# 创建Excel工作簿和工作表\n",
    "wb = Workbook()\n",
    "ws = wb.active\n",
    "ws.append([\"评论\", \"时间\"])\n",
    "\n",
    "num = 1\n",
    "# next_page_button = True\n",
    "comment_count = 0\n",
    "scroll_counter = 0\n",
    "\n",
    "while comment_count < 500:\n",
    "    # 构建当前评论元素的 XPath\n",
    "    xpath_comment = f'/html/body/div[contains(@class,\"app-v1\")]/div[contains(@class,\"video-container-v1\")]/div[contains(@class,\"left-container scroll-sticky\")]/div[contains(@class,\"left-container-under-player\")]/div[contains(@class,\"comment-m-v1\")]/div[contains(@class,\"comment\")]/div[contains(@class,\"bili-comment browser-pc\")]/div[contains(@class,\"comment-container\")]/div[contains(@class,\"reply-warp\")]/div/div[{num}]/div[contains(@class,\"root-reply-container\")]/div[contains(@class,\"content-warp\")]/div[contains(@class,\"root-reply\")]/span[contains(@class,\"reply-content-container root-reply\")]/span[contains(@class,\"reply-content\")]'\n",
    "    xpath_time = f'/html/body/div[contains(@class,\"app-v1\")]/div[contains(@class,\"video-container-v1\")]/div[contains(@class,\"left-container scroll-sticky\")]/div[contains(@class,\"left-container-under-player\")]/div[contains(@class,\"comment-m-v1\")]/div[contains(@class,\"comment\")]/div[contains(@class,\"bili-comment browser-pc\")]/div[contains(@class,\"comment-container\")]/div[contains(@class,\"reply-warp\")]/div/div[{num}]/div[3]/div/div[1]/div[2]/span[1]'\n",
    "    \n",
    "    try:\n",
    "        # 尝试查找评论元素和时间元素\n",
    "        comment = driver.find_element(By.XPATH, xpath_comment)\n",
    "        time = driver.find_element(By.XPATH, xpath_time)\n",
    "        print(time)\n",
    "        \n",
    "        # 将评论和时间写入Excel表格\n",
    "        ws.append([comment.text, time.text])\n",
    "        \n",
    "        num += 1\n",
    "        comment_count += 1\n",
    "        \n",
    "        # 每20次滑动到底部\n",
    "        if num % 20 == 0:\n",
    "            driver.execute_script(\"window.scrollTo(0, document.body.scrollHeight);\")\n",
    "            scroll_counter += 1\n",
    "            \n",
    "            # 等待加载\n",
    "            WebDriverWait(driver, 10).until(EC.presence_of_element_located((By.XPATH, f'/html/body/div[contains(@class,\"app-v1\")]/div[contains(@class,\"video-container-v1\")]/div[contains(@class,\"left-container scroll-sticky\")]/div[contains(@class,\"left-container-under-player\")]/div[contains(@class,\"comment-m-v1\")]/div[contains(@class,\"comment\")]/div[contains(@class,\"bili-comment browser-pc\")]/div[contains(@class,\"comment-container\")]/div[contains(@class,\"reply-warp\")]/div/div[{num}]')))\n",
    "            \n",
    "    except:\n",
    "        # 如果没有找到评论元素，退出循环\n",
    "        break   \n",
    "#     # 查找下一页按钮\n",
    "#     next_page_button = driver.find_elements(By.XPATH, \"xpath_of_next_page_button\")\n",
    "wb.save(\"comments.xlsx\")"
   ]
  },
  {
   "cell_type": "code",
   "execution_count": 56,
   "id": "218c2447",
   "metadata": {
    "scrolled": true
   },
   "outputs": [],
   "source": [
    "# print(comment_text)"
   ]
  },
  {
   "cell_type": "code",
   "execution_count": 57,
   "id": "6edb52f0",
   "metadata": {
    "scrolled": true
   },
   "outputs": [],
   "source": [
    "# comments_date = driver.find_elements(By.XPATH,'')"
   ]
  },
  {
   "cell_type": "code",
   "execution_count": 58,
   "id": "3ff1758c",
   "metadata": {
    "scrolled": true
   },
   "outputs": [
    {
     "ename": "TypeError",
     "evalue": "'WebElement' object is not iterable",
     "output_type": "error",
     "traceback": [
      "\u001b[1;31m---------------------------------------------------------------------------\u001b[0m",
      "\u001b[1;31mTypeError\u001b[0m                                 Traceback (most recent call last)",
      "Cell \u001b[1;32mIn[58], line 2\u001b[0m\n\u001b[0;32m      1\u001b[0m num \u001b[38;5;241m=\u001b[39m \u001b[38;5;241m0\u001b[39m\n\u001b[1;32m----> 2\u001b[0m \u001b[38;5;28;01mfor\u001b[39;00m item \u001b[38;5;129;01min\u001b[39;00m comments_body:\n\u001b[0;32m      3\u001b[0m     \u001b[38;5;28mprint\u001b[39m(item\u001b[38;5;241m.\u001b[39mtext\u001b[38;5;241m+\u001b[39m\u001b[38;5;124m'\u001b[39m\u001b[38;5;124m/n/n\u001b[39m\u001b[38;5;124m'\u001b[39m);\n\u001b[0;32m      4\u001b[0m     num\u001b[38;5;241m=\u001b[39m num \u001b[38;5;241m+\u001b[39m \u001b[38;5;241m1\u001b[39m;\n",
      "\u001b[1;31mTypeError\u001b[0m: 'WebElement' object is not iterable"
     ]
    }
   ],
   "source": []
  },
  {
   "cell_type": "code",
   "execution_count": 13,
   "id": "82685fbc",
   "metadata": {
    "scrolled": true
   },
   "outputs": [
    {
     "name": "stdout",
     "output_type": "stream",
     "text": [
      "t***9\n",
      "2024-02-14\n",
      "感觉还挺好的 买了个256的 花了5999而且12期免息 没买AC+都说后盖容易碎 带壳也不裸奔 像素非常好 刚拆开的时候后镜头钢圈和镜片的缝隙有一点点白色灰尘 擦了老半天 擦下去了 感觉也一般吧 没有十全十美的东西 毕竟都是人组装的 感觉这个手机就很可以了 客服的服务态度超级好 音质好 手机是中国生产的 数据线好像是越南 有点bug更新系统解决了 很满意 想买14 一看差三百直接买15吧 毕竟可以多用一年 卖的时候也贵几百 顺丰隔天就到了 很快 手机很好用 搭配充电器一块下单的 通信音质：音质好 信号也还可以 没发现上不去网打不出去电话 显示效果：屏幕非常细腻 60刷新率并不卡 和荣耀50120刷新率共同使用 没什么明显差距\n",
      "19天后追评\n",
      "😂5999十二期免息 不过买的话考虑好 15的问题可能有点多 都说容易烧屏 看抖音十来分钟 退出主页面返回桌面会有一个加号➕ 倒是十秒左右就会消失 其他倒是没发现 确实手感好 比13的电池耐用 像素很好 很满意 充电速度不如华为的66w快 整体来说还可以 再说了 保修期内随便造 到时候去售后换机就行了 256的我感觉够用了 128的应该是不够\n",
      "机身颜色：黑色\n",
      "存储容量：256GB\n",
      "每***4 超级会员\n",
      "2023-11-21\n",
      "我的苹果15已经用了几天了才来评价，前几天搞活动买的，优惠比较大，发货很快，收到了 仔细检查了一遍，网上那些摄像头有灰尘，边框缝隙大这些我没发现有，完美下车，首先续航还不错吧，用一天完全没问题，系统流畅丝滑，这点值得称赞，缺点吧也很明显，还是老问题，手机信号差，网络差，快充才20，相机拍久了有点发烫，其他时候还好，不怎么烫，因为天猫官方旗舰店靠谱点，所以就在这买了，目前比较满意，趁着双十一优惠大就下手了，苹果15相比前面的13/14的话确实更新提升不大，如果不是双十一搞活动的话性价比真不高，等我再用一段时间以后再来评价吧。\n",
      "机身颜色：蓝色\n",
      "存储容量：128GB\n",
      "王***8\n",
      "2024-03-05\n",
      "拍照方面：拍照清晰，照相效果很出色，很满意。 续航方面：续航能力强，运行畅快 ，使用流畅。 外观尺寸：经典黑色款式好看，外观简约时尚，大小尺寸刚刚好，一只手可以完全握住，使用起来很方便。手机包装很好，无破损。 总体评价：质量很好，做工精致，屏幕细腻清晰，色彩饱和度很不错，照相不错，很漂亮，音质也很棒，系统功能强大，运行速度很快，看电影听音乐都很给力，非常享受，操作简单，内存也够用，性价比蛮高的，物流也够快，超喜欢！！！\n",
      "机身颜色：黑色\n",
      "存储容量：128GB\n",
      "t***7 超级会员\n",
      "2023-11-19\n",
      "外观颜值没得说 非常好看 续航能力也是很不错的 轻度使用的话完全可以坚持一天 手机小小的握持感也很好 灵动岛也很好用 显示地图外卖什么的特别方便 60hz也完全感受不到什么不好的地方 可以接受 拍照前置的话确实有点发灰 但是在相册里等几秒就会好很多 后置就没的说 真的很清晰 拍照效果杠杠滴 非常好用 我很喜欢💕\n",
      "机身颜色：蓝色\n",
      "存储容量：256GB\n",
      "吉***糕 超级会员\n",
      "2024-02-04\n",
      "yl无杂音就是通话时声音比较小！可能自己丑的原因！还有就是拍照，真的很清晰，灵动岛也很好用，最后就是充电时会发烫，播放视频等也是非常流畅画面清晰，播放音乐和拍摄视频里的对话等都是比较清晰的，手感不错屏幕音效\n",
      "12天后追评\n",
      "用一天完全没问题，拍照前置的话确实有点发灰！\n",
      "机身颜色：粉色\n",
      "存储容量：128GB\n",
      "z***3\n",
      "2023-11-11\n",
      "我的苹果15已经用了几天了才来评价，前几天搞活动买的，优惠比较大，发货很快，收到了仔细检查了一遍，网上那些摄像头有灰尘，边框缝隙大这些我没发现有，完美下车，首先续航还不错吧，用一天完全没问题，系统流畅丝滑，这点值得称赞，缺点吧也很明显，还是老问题，手机信号差，网络差，快充才20，相机拍久了有点发烫，其他时候还好，不怎么烫，因为天猫官方旗舰店靠谱点，所以就在这买了，目前比较满意，趁着双十一优惠大就下手了，苹果15相比前面的13/14的话确实更新提升不大，如果不是双十一搞活动的话性价比真不高，等我再用一段时间以后再来评价吧。\n",
      "机身颜色：蓝色\n",
      "存储容量：128GB\n",
      "j***i\n",
      "2023-10-16\n",
      "发货有点慢，发出后很快，第二天就到了 没有任何问题，品相完美，无瑕疵，国产 续航一般吧，一直在玩，一天一充 摄像头升级了不少，挺喜欢的 运行速度还可以，毕竟新的嘛 用了一周，无任何问题，灵动岛挺可爱哈哈 通信音质：声音比我之前的X大 显示效果：屏幕显示比X偏黄一点 其他特色：手感很好，颜值很高，蓝色超好看，而且轻了不少\n",
      "机身颜色：蓝色\n",
      "存储容量：128GB\n",
      "s***0\n",
      "2024-01-27\n",
      "相信官网的正品，黑色好看有质感，基础款对上班簇很够用了，官网优惠1050下手，很合适！上海发货\n",
      "机身颜色：黑色\n",
      "存储容量：256GB\n",
      "t***9 超级会员\n",
      "2024-01-29\n",
      "看了年货节4999还是忍不住下手了！收到了好几天昨天晚上才打开 中间出现一点小问题 就是打开苹果的要下载东西那个软件死活说没有连接网络弄了好久 又反复关机还是不行 网上说的办法也试了好几个，后来自己把那个内存空间打开然后才能进去下载东西。不影响心情。有钱再入手一个15pro\n",
      "机身颜色：蓝色\n",
      "存储容量：128GB\n",
      "大***家 超级会员\n",
      "2024-02-08\n",
      "年货节买的价格很划算，续航不错快充充的很快，终于上岛噜！淡蓝色好漂亮～～～买了512应该够用了，就是前置摄像头拍出来和相机里看的不一样啊，有点难受\n",
      "机身颜色：蓝色\n",
      "存储容量：512GB\n",
      "雨***人 超级会员\n",
      "2023-11-08\n",
      "等了这么多天手机收到了，浅绿色很好看，外观简约时尚，使用流畅。 外形外观：简约，时尚，大小刚刚好，手感不错屏幕音效：屏幕显示清晰流畅，双扬声器音质不错 拍照效果：升级了4800W 像素，拍照体验更好些 运行速度：系统运行流畅待机时间：日常使用一天两充 其他特色：有少数app下载之后无法使用一直转圈圈打不开，卸载重新安装也不行。\n",
      "机身颜色：绿色\n",
      "存储容量：256GB\n",
      "t***7 超级会员\n",
      "2023-11-27\n",
      "用了半个月了，暂时感觉还是不错的，挺流畅，信号也还可以，充电速度也中规中矩吧，但是打游戏就会耗电很快\n",
      "机身颜色：蓝色\n",
      "存储容量：256GB\n",
      "小***a 超级会员\n",
      "2023-11-15\n",
      "双十一买的，便宜了几百块。 新手机，续航能力很好，晚上充满电，可以玩一整天。手机很流畅。用了一个多星期，手机没有瑕疵，目前没有出现什么问题。 说下15的缺点，信号真的很差，经常就没网了。还有就是拍照，真的很丑，发灰发红。最后就是充电时会发烫，现在冬天了好一些。\n",
      "机身颜色：蓝色\n",
      "存储容量：256GB\n",
      "y***9 超级会员\n",
      "2023-11-25\n",
      "生产日期很新鲜，电池🔋还是10月产的，比pro版的7月要更近，只能说15其实性价比更高销量旺。从充电孔看是中国🇨🇳产的并非**黑所传的印度🇮🇳产。特意选了招牌色——粉色，和Apple牌硅胶壳很配。\n",
      "机身颜色：粉色\n",
      "存储容量：512GB\n",
      "r***h 超级会员\n",
      "2023-11-15\n",
      "通信音质：无杂音就是通话时声音比较小，播放音乐和拍摄视频里的对话等都是比较清晰的。 显示效果：拍摄🎬等都非常好画质效果也很高。 个人还是比较满意这款手机的，电量🔋不怎么使用的话两天完全够用，播放视频等也是非常流畅画面清晰。唯一不喜欢的话就充电头太难购买了😂\n",
      "机身颜色：黑色\n",
      "存储容量：512GB\n",
      "t***0 超级会员\n",
      "2023-11-18\n",
      "从安卓转苹果，体验感一般，但是拍照live是白月光了，所以就这么用吧，可能是新手**，电池真的超耐用的\n",
      "机身颜色：蓝色\n",
      "存储容量：512GB\n",
      "圣***密\n",
      "2024-01-02\n",
      "十年前用过5s，如今再次用苹果还是心动的感觉，丝滑流畅，粉色永远的神，斩男更斩女，音质特别好，通透，拍照还是那么真实清晰，旗舰店发货用的空运，第二天就到了，特别赞\n",
      "机身颜色：粉色\n",
      "存储容量：256GB\n",
      "杰***爱 超级会员\n",
      "2024-02-01\n",
      "这款蓝色太正了，手机拍不出来，实物颜色特别好看，灵动岛新鲜，与众不同，大小适合女生，是一款非常棒的手机！\n",
      "机身颜色：蓝色\n",
      "存储容量：128GB\n",
      "网***名\n",
      "2024-02-01\n",
      "手机很快收到了！iphone15基础版完全够用，完美！非常完美！奶黄奶黄的颜色特别漂亮！手机没有任何瑕疵！优惠力度很大！嘉兴平湖发货，顺丰非常给力！愉快！愉快！\n",
      "机身颜色：黄色\n",
      "存储容量：256GB\n",
      "香***仙 超级会员\n",
      "2024-02-05\n",
      "第一次用苹果，用了10天了体验感很好，手感确实很好，我就喜欢这种小巧手感又好的手机，拍照也很好看！\n",
      "机身颜色：粉色\n",
      "存储容量：256GB\n",
      "在***k 超级会员\n",
      "2023-11-24\n",
      "颜色真的非常好看，续航能力也强，正常使用的话一天一充没有问题。 显示效果：图片显示效果很真实\n",
      "机身颜色：蓝色\n",
      "存储容量：128GB\n",
      "n***w 超级会员\n",
      "2023-11-10\n",
      "第一次在天猫买手机，挺好的！满意，用了一周了来确认！目前一周内都没啥问题，稍微才开始用的时候就有点点烫，现在基本OK啦！安全下车！电池一天要充电两次。\n",
      "机身颜色：粉色\n",
      "存储容量：256GB\n",
      "z***3\n",
      "2023-11-26\n",
      "通信音质：打电话的效果非常好，通话清晰。 其他特色：手机的质感非常好，不愧是iphone，做工用料都很扎实。 显示效果：屏幕的现实效果非常清晰，细腻。天猫发货快，售后好，值得推荐，手机非常不错，下次还会再买。\n",
      "机身颜色：蓝色\n",
      "存储容量：128GB\n",
      "1***姐 超级会员\n",
      "2024-02-01\n",
      "快递收到外壳被人撕开了点口子 手机刚拿到的前三四天，晚上充满电到第二天就掉到92.93左右，后面充满电晚上放一夜也没有掉电 新机子很流畅，从6️⃣s换15，除了电池不耐用其它都很好 目前用了🈶十天，整体感觉不错，年货节买的到手4939\n",
      "机身颜色：粉色\n",
      "存储容量：128GB\n",
      "t***9\n",
      "2024-03-13\n",
      "拍照挺好看的，感觉屏幕有点小，应该买plus会比较好，还有就是微信不能双开，有点麻烦。屏幕有点黄，但是和我室友的pro对比了一下，发现都很黄（\n",
      "机身颜色：蓝色\n",
      "存储容量：256GB\n",
      "派***块\n",
      "2024-01-06\n",
      "不得不赞，质量真的好，包装物流也不错。真心喜欢，入手后不会让你后悔的哈哈。我终于买到了！眼馋了好久！卖家很给力回话速度很快！生意兴隆哦我来评价下这个宝贝，价格不错，质量不错，快递不错，老板不错。是理想中的产品💖，质量不错，物流也很快，值得点赞！\n",
      "机身颜色：蓝色\n",
      "存储容量：256GB\n"
     ]
    }
   ],
   "source": [
    "print(comments_list.text)"
   ]
  },
  {
   "cell_type": "code",
   "execution_count": null,
   "id": "8da339f3",
   "metadata": {},
   "outputs": [],
   "source": []
  },
  {
   "cell_type": "code",
   "execution_count": null,
   "id": "b5b38da4",
   "metadata": {},
   "outputs": [],
   "source": []
  },
  {
   "cell_type": "code",
   "execution_count": null,
   "id": "d55370cb",
   "metadata": {},
   "outputs": [],
   "source": []
  },
  {
   "cell_type": "code",
   "execution_count": null,
   "id": "1047e281",
   "metadata": {},
   "outputs": [],
   "source": []
  },
  {
   "cell_type": "code",
   "execution_count": null,
   "id": "158f10e5",
   "metadata": {},
   "outputs": [],
   "source": []
  },
  {
   "cell_type": "code",
   "execution_count": null,
   "id": "ef5827dd",
   "metadata": {},
   "outputs": [],
   "source": []
  },
  {
   "cell_type": "code",
   "execution_count": null,
   "id": "1534a5fd",
   "metadata": {},
   "outputs": [],
   "source": []
  },
  {
   "cell_type": "code",
   "execution_count": 25,
   "id": "bef30edd",
   "metadata": {},
   "outputs": [],
   "source": [
    "response = requests.request(\"GET\",url,headers=headers)"
   ]
  },
  {
   "cell_type": "code",
   "execution_count": 26,
   "id": "4a06c953",
   "metadata": {
    "scrolled": true
   },
   "outputs": [
    {
     "data": {
      "text/plain": [
       "<Response [200]>"
      ]
     },
     "execution_count": 26,
     "metadata": {},
     "output_type": "execute_result"
    }
   ],
   "source": [
    "response"
   ]
  },
  {
   "cell_type": "code",
   "execution_count": 27,
   "id": "5b868233",
   "metadata": {},
   "outputs": [],
   "source": [
    "from lxml import etree"
   ]
  },
  {
   "cell_type": "code",
   "execution_count": 28,
   "id": "1b6e7b64",
   "metadata": {},
   "outputs": [],
   "source": [
    "tree = etree.HTML(response.text) ###etree表示elements tree 元素树"
   ]
  },
  {
   "cell_type": "code",
   "execution_count": 34,
   "id": "73d4cd2d",
   "metadata": {},
   "outputs": [
    {
     "data": {
      "text/plain": [
       "<Element html at 0x240aa93ac40>"
      ]
     },
     "execution_count": 34,
     "metadata": {},
     "output_type": "execute_result"
    }
   ],
   "source": [
    "tree"
   ]
  },
  {
   "cell_type": "code",
   "execution_count": 31,
   "id": "931c9e5a",
   "metadata": {
    "scrolled": true
   },
   "outputs": [],
   "source": [
    "comments_list = tree.xpath('/html/body/div[contains(@class,\"mui-cover\")]/div[contains(@class,\"body\")]')"
   ]
  },
  {
   "cell_type": "code",
   "execution_count": 32,
   "id": "a2dd97bf",
   "metadata": {
    "scrolled": true
   },
   "outputs": [
    {
     "data": {
      "text/plain": [
       "[]"
      ]
     },
     "execution_count": 32,
     "metadata": {},
     "output_type": "execute_result"
    }
   ],
   "source": [
    "comments_list"
   ]
  },
  {
   "cell_type": "code",
   "execution_count": null,
   "id": "e6f9b34f",
   "metadata": {},
   "outputs": [],
   "source": [
    "comments_detal  = "
   ]
  },
  {
   "cell_type": "code",
   "execution_count": null,
   "id": "e67a8024",
   "metadata": {},
   "outputs": [],
   "source": []
  },
  {
   "cell_type": "code",
   "execution_count": null,
   "id": "c544d197",
   "metadata": {},
   "outputs": [],
   "source": []
  }
 ],
 "metadata": {
  "kernelspec": {
   "display_name": "Python 3 (ipykernel)",
   "language": "python",
   "name": "python3"
  },
  "language_info": {
   "codemirror_mode": {
    "name": "ipython",
    "version": 3
   },
   "file_extension": ".py",
   "mimetype": "text/x-python",
   "name": "python",
   "nbconvert_exporter": "python",
   "pygments_lexer": "ipython3",
   "version": "3.11.3"
  }
 },
 "nbformat": 4,
 "nbformat_minor": 5
}
