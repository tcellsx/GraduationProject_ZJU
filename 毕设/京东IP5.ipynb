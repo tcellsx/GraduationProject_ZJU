{
 "cells": [
  {
   "cell_type": "code",
   "execution_count": 1,
   "id": "205d74be",
   "metadata": {
    "scrolled": true
   },
   "outputs": [
    {
     "name": "stdout",
     "output_type": "stream",
     "text": [
      "Requirement already satisfied: selenium in d:\\anaconda\\lib\\site-packages (4.11.2)\n",
      "Requirement already satisfied: urllib3[socks]<3,>=1.26 in d:\\anaconda\\lib\\site-packages (from selenium) (1.26.16)\n",
      "Requirement already satisfied: trio~=0.17 in d:\\anaconda\\lib\\site-packages (from selenium) (0.22.2)\n",
      "Requirement already satisfied: trio-websocket~=0.9 in d:\\anaconda\\lib\\site-packages (from selenium) (0.10.3)\n",
      "Requirement already satisfied: certifi>=2021.10.8 in d:\\anaconda\\lib\\site-packages (from selenium) (2023.5.7)\n",
      "Requirement already satisfied: attrs>=20.1.0 in d:\\anaconda\\lib\\site-packages (from trio~=0.17->selenium) (22.1.0)\n",
      "Requirement already satisfied: sortedcontainers in d:\\anaconda\\lib\\site-packages (from trio~=0.17->selenium) (2.4.0)\n",
      "Requirement already satisfied: idna in d:\\anaconda\\lib\\site-packages (from trio~=0.17->selenium) (3.4)\n",
      "Requirement already satisfied: outcome in d:\\anaconda\\lib\\site-packages (from trio~=0.17->selenium) (1.2.0)\n",
      "Requirement already satisfied: sniffio in d:\\anaconda\\lib\\site-packages (from trio~=0.17->selenium) (1.2.0)\n",
      "Requirement already satisfied: cffi>=1.14 in d:\\anaconda\\lib\\site-packages (from trio~=0.17->selenium) (1.15.1)\n",
      "Requirement already satisfied: exceptiongroup in d:\\anaconda\\lib\\site-packages (from trio-websocket~=0.9->selenium) (1.1.2)\n",
      "Requirement already satisfied: wsproto>=0.14 in d:\\anaconda\\lib\\site-packages (from trio-websocket~=0.9->selenium) (1.2.0)\n",
      "Requirement already satisfied: PySocks!=1.5.7,<2.0,>=1.5.6 in d:\\anaconda\\lib\\site-packages (from urllib3[socks]<3,>=1.26->selenium) (1.7.1)\n",
      "Requirement already satisfied: pycparser in d:\\anaconda\\lib\\site-packages (from cffi>=1.14->trio~=0.17->selenium) (2.21)\n",
      "Requirement already satisfied: h11<1,>=0.9.0 in d:\\anaconda\\lib\\site-packages (from wsproto>=0.14->trio-websocket~=0.9->selenium) (0.14.0)\n"
     ]
    }
   ],
   "source": [
    "!pip install selenium"
   ]
  },
  {
   "cell_type": "code",
   "execution_count": 4,
   "id": "57627f20",
   "metadata": {},
   "outputs": [],
   "source": [
    "from selenium import webdriver"
   ]
  },
  {
   "cell_type": "code",
   "execution_count": 5,
   "id": "7cbecc74",
   "metadata": {},
   "outputs": [],
   "source": [
    "from selenium.webdriver.common.by import By ###XPATH"
   ]
  },
  {
   "cell_type": "code",
   "execution_count": 6,
   "id": "595845f2",
   "metadata": {},
   "outputs": [],
   "source": [
    "from selenium.webdriver.support.ui import Select ###下拉菜单（暂时没有用到，原以为的方法发生了错误）"
   ]
  },
  {
   "cell_type": "code",
   "execution_count": 7,
   "id": "6207727e",
   "metadata": {},
   "outputs": [],
   "source": [
    "from selenium.webdriver import ActionChains ###键鼠操作"
   ]
  },
  {
   "cell_type": "code",
   "execution_count": 8,
   "id": "ea640f8a",
   "metadata": {},
   "outputs": [],
   "source": [
    "import threading"
   ]
  },
  {
   "cell_type": "code",
   "execution_count": 9,
   "id": "a0aaaf2d",
   "metadata": {},
   "outputs": [],
   "source": [
    "import requests"
   ]
  },
  {
   "cell_type": "code",
   "execution_count": 10,
   "id": "05191a89",
   "metadata": {},
   "outputs": [],
   "source": [
    "import re ###正则表达式"
   ]
  },
  {
   "cell_type": "code",
   "execution_count": 11,
   "id": "643a6fee",
   "metadata": {},
   "outputs": [],
   "source": [
    "from time import sleep"
   ]
  },
  {
   "cell_type": "code",
   "execution_count": 20,
   "id": "c20fe8d7",
   "metadata": {},
   "outputs": [],
   "source": [
    "driver = webdriver.Chrome()"
   ]
  },
  {
   "cell_type": "code",
   "execution_count": 10,
   "id": "01a77442",
   "metadata": {},
   "outputs": [],
   "source": [
    "url = \"https://item.jd.com/100066896214.html\""
   ]
  },
  {
   "cell_type": "code",
   "execution_count": 11,
   "id": "a31482ed",
   "metadata": {},
   "outputs": [],
   "source": [
    "driver.get(url)"
   ]
  },
  {
   "cell_type": "markdown",
   "id": "7268c995",
   "metadata": {},
   "source": [
    "### 先自行登录\n",
    "### 然后与当前页面当中的元素进行交互\n",
    "### 接下来的内容就是调整评论排序为时间排序"
   ]
  },
  {
   "cell_type": "code",
   "execution_count": 12,
   "id": "a4b107d7",
   "metadata": {},
   "outputs": [],
   "source": [
    "sleep(3)"
   ]
  },
  {
   "cell_type": "code",
   "execution_count": 13,
   "id": "e4c1710c",
   "metadata": {},
   "outputs": [],
   "source": [
    "current_url = driver.current_url"
   ]
  },
  {
   "cell_type": "code",
   "execution_count": 14,
   "id": "140b572d",
   "metadata": {
    "scrolled": true
   },
   "outputs": [],
   "source": [
    "while current_url != url :\n",
    "    sleep(1)\n",
    "    current_url = driver.current_url"
   ]
  },
  {
   "cell_type": "code",
   "execution_count": 15,
   "id": "d0f469b0",
   "metadata": {},
   "outputs": [],
   "source": [
    "element1 = driver.find_element(By.XPATH,'//*[@id=\"detail\"]/div[1]/ul/li[5]')"
   ]
  },
  {
   "cell_type": "code",
   "execution_count": 16,
   "id": "1aa10cd5",
   "metadata": {},
   "outputs": [],
   "source": [
    "element1.click()"
   ]
  },
  {
   "cell_type": "code",
   "execution_count": 17,
   "id": "f487595d",
   "metadata": {},
   "outputs": [],
   "source": [
    "element2 = driver.find_element(By.XPATH,'//*[@id=\"comment\"]/div[2]/div[2]/div[1]/div/div/div[1]')"
   ]
  },
  {
   "cell_type": "code",
   "execution_count": 18,
   "id": "293d0ad3",
   "metadata": {},
   "outputs": [],
   "source": [
    "### driver.execute_script(\"arguments[0].textContent = '时间排序';\",element2) 只能修改值，无法影响实际页面"
   ]
  },
  {
   "cell_type": "code",
   "execution_count": 19,
   "id": "d07083d1",
   "metadata": {
    "scrolled": false
   },
   "outputs": [],
   "source": [
    "action  = ActionChains(driver) ###初始化键鼠操作"
   ]
  },
  {
   "cell_type": "code",
   "execution_count": 20,
   "id": "e8085b64",
   "metadata": {},
   "outputs": [],
   "source": [
    "action.move_to_element(element2).perform() ###移动到元素上"
   ]
  },
  {
   "cell_type": "code",
   "execution_count": 21,
   "id": "3c7d0668",
   "metadata": {},
   "outputs": [],
   "source": [
    "sleep(2) ###暂停两秒"
   ]
  },
  {
   "cell_type": "code",
   "execution_count": 22,
   "id": "34241bb1",
   "metadata": {},
   "outputs": [],
   "source": [
    "element3 = driver.find_element(By.XPATH,'//*[@id=\"comment\"]/div[2]/div[2]/div[1]/div/div/div[2]/ul/li[2]')"
   ]
  },
  {
   "cell_type": "code",
   "execution_count": 23,
   "id": "46ab4d09",
   "metadata": {},
   "outputs": [],
   "source": [
    "element3.click()"
   ]
  },
  {
   "cell_type": "markdown",
   "id": "53a0c8e1",
   "metadata": {},
   "source": [
    "## 数据请求"
   ]
  },
  {
   "cell_type": "markdown",
   "id": "b9e95dd6",
   "metadata": {},
   "source": [
    "### 开始爬取评论"
   ]
  },
  {
   "cell_type": "code",
   "execution_count": 24,
   "id": "1acac5c5",
   "metadata": {},
   "outputs": [],
   "source": [
    "###data = requests.get(url).text"
   ]
  },
  {
   "cell_type": "code",
   "execution_count": 25,
   "id": "fd92cba2",
   "metadata": {},
   "outputs": [],
   "source": [
    "###data"
   ]
  },
  {
   "cell_type": "markdown",
   "id": "a0c7cdc4",
   "metadata": {},
   "source": [
    "### 会发现评论其实并不在这个url当中，所以找一个评论去看它的Headers"
   ]
  },
  {
   "cell_type": "code",
   "execution_count": 26,
   "id": "ddb9e626",
   "metadata": {},
   "outputs": [],
   "source": [
    "###url_comment = 'https://api.m.jd.com/?appid=item-v3&functionId=pc_club_productPageComments&client=pc&clientVersion=1.0.0&t=1709571830788&loginType=3&uuid=181111935.170957100638087579330.1709571006.1709571006.1709571006.1&productId=100066896214&score=0&sortType=6&page=0&pageSize=10&isShadowSku=0&fold=1&bbtf=&shield='"
   ]
  },
  {
   "cell_type": "code",
   "execution_count": 27,
   "id": "1155dea8",
   "metadata": {
    "scrolled": true
   },
   "outputs": [],
   "source": [
    "###data = requests.get(url_comment1).text\n",
    "###data\n",
    "###这两步就可以看见JD评论的内容啦，但是并不是所有的网站都可以，一般需要伪装"
   ]
  },
  {
   "cell_type": "markdown",
   "id": "c1f839e6",
   "metadata": {},
   "source": [
    "### 伪装的步骤"
   ]
  },
  {
   "cell_type": "code",
   "execution_count": 11,
   "id": "8e6ab292",
   "metadata": {},
   "outputs": [],
   "source": [
    "headers = {\n",
    "    # 从哪个页面发出数据请求，每个网站通常不同\n",
    "    'referer' : 'https://item.jd.com/',\n",
    "    # 使用的是什么浏览器\n",
    "    'User-Agent' : 'Mozilla/5.0 (Windows NT 10.0; Win64; x64) AppleWebKit/537.36 (KHTML, like Gecko) Chrome/122.0.0.0 Safari/537.36',\n",
    "    #明确是哪一个用户需要请求，建议使用登陆后的cookie\n",
    "    'Cookie' : 'jsavif=1; shshshfpa=90c324fd-2d11-b728-7246-58ac18e12e39-1709571006; shshshfpx=90c324fd-2d11-b728-7246-58ac18e12e39-1709571006; __jdv=181111935|direct|-|none|-|1709571006380; __jdu=170957100638087579330; areaId=15; mba_muid=170957100638087579330; wlfstk_smdl=ybdv0d6ti1i2lab4utxomxy6lh4lfeue; thor=5D27038F84B3FABC9730BA9ECE3F15C37F253D49DBD712861DFF7A5F7519038B6D38FF18575158FB7190BA3D852E0BE62A1F7A6FD30819FB4C7276B8918156A894DB1C0FBF0B252DF3A2F8DC4D459314B7D5C82D3C6569939FD4636B1FE32A29A4860AB5AD372F2CE5D76C873F2D1C4B079FEBEA2FB1E894D0CFD6080389ABA0FC4AE398DA964362C8218CC681CE9F8C1B8C2F0A6FCA61594C899FAFFF64C426; flash=2_1wPKpnFYU0gFtigeZye4rT-5Xo4F535OLqupCEp_qIWFJ8jKzzBZtidswA7rXXkm44ntAf1VtoWiRKAMj-ePG9rY1xw4YOYB6jxn7DTfmpk*; pinId=j3tjC9QCAcriuqWWwQ0X4w; pin=jd_RxZXMLfsSbIn; unick=jd_RxZXMLfsSbIn; ceshi3.com=000; _tp=SISCF1CiRIiX45f61px5Nw%3D%3D; _pst=jd_RxZXMLfsSbIn; 3AB9D23F7A4B3C9B=EZNSX7QPJDIZDRTKCFOVMFIIPDV5VS3QHN6JQBUFBMBMONZR754TCJUBJGYYGROSJGTN63MHP5X5CAOPZJX7JOHMWA; __jda=181111935.170957100638087579330.1709571006.1709571006.1709571006.1; __jdc=181111935; ipLoc-djd=15-1262-1267-56327; token=8fc105ae0b865291d7a39f6fc36593a5,3,949762; __tk=eedc42c0dca753bf52cb494f93cdbec6,3,949762; 3AB9D23F7A4B3CSS=jdd03EZNSX7QPJDIZDRTKCFOVMFIIPDV5VS3QHN6JQBUFBMBMONZR754TCJUBJGYYGROSJGTN63MHP5X5CAOPZJX7JOHMWAAAAAMOBJVCZNQAAAAADBUGT3TGNRHGRIX; _gia_d=1; __jdb=181111935.5.170957100638087579330|1.1709571006; shshshfpb=BApXe3-liCetANYrt31ZZnMCPMdujJ5_jBksWFylq9xJ1Ms3A-IO2'\n",
    "}"
   ]
  },
  {
   "cell_type": "code",
   "execution_count": 12,
   "id": "7262157f",
   "metadata": {},
   "outputs": [],
   "source": [
    "sleeptime = 4"
   ]
  },
  {
   "cell_type": "code",
   "execution_count": 1,
   "id": "e6fb6dee",
   "metadata": {},
   "outputs": [],
   "source": [
    "texts1 = []\n",
    "texts2 = []\n",
    "texts3 = []\n",
    "texts4 = []"
   ]
  },
  {
   "cell_type": "code",
   "execution_count": 2,
   "id": "d957d56b",
   "metadata": {},
   "outputs": [
    {
     "ename": "NameError",
     "evalue": "name 'sleep' is not defined",
     "output_type": "error",
     "traceback": [
      "\u001b[1;31m---------------------------------------------------------------------------\u001b[0m",
      "\u001b[1;31mNameError\u001b[0m                                 Traceback (most recent call last)",
      "Cell \u001b[1;32mIn[2], line 3\u001b[0m\n\u001b[0;32m      1\u001b[0m \u001b[38;5;28;01mfor\u001b[39;00m n \u001b[38;5;129;01min\u001b[39;00m \u001b[38;5;28mrange\u001b[39m(\u001b[38;5;241m0\u001b[39m,\u001b[38;5;241m1\u001b[39m) : \u001b[38;5;66;03m###page5是拿不到的\u001b[39;00m\n\u001b[0;32m      2\u001b[0m     url_comment \u001b[38;5;241m=\u001b[39m \u001b[38;5;124m'\u001b[39m\u001b[38;5;124mhttps://api.m.jd.com/?appid=item-v3&functionId=pc_club_productPageComments&client=pc&clientVersion=1.0.0&t=1709571830788&loginType=3&uuid=181111935.170957100638087579330.1709571006.1709571006.1709571006.1&productId=100066896214&score=0&sortType=6&page=\u001b[39m\u001b[38;5;124m'\u001b[39m \u001b[38;5;241m+\u001b[39m\u001b[38;5;28mstr\u001b[39m(n)\u001b[38;5;241m+\u001b[39m \u001b[38;5;124m'\u001b[39m\u001b[38;5;124m&pageSize=10&isShadowSku=0&fold=1&bbtf=&shield=\u001b[39m\u001b[38;5;124m'\u001b[39m\n\u001b[1;32m----> 3\u001b[0m     sleep(sleeptime)\n\u001b[0;32m      4\u001b[0m     data \u001b[38;5;241m=\u001b[39m requests\u001b[38;5;241m.\u001b[39mget(url_comment,headers \u001b[38;5;241m=\u001b[39m headers)\u001b[38;5;241m.\u001b[39mtext\n\u001b[0;32m      5\u001b[0m     comment_content \u001b[38;5;241m=\u001b[39m re\u001b[38;5;241m.\u001b[39mcompile(\u001b[38;5;124m'\u001b[39m\u001b[38;5;124m\"\u001b[39m\u001b[38;5;124mcontent\u001b[39m\u001b[38;5;124m\"\u001b[39m\u001b[38;5;124m:\u001b[39m\u001b[38;5;124m\"\u001b[39m\u001b[38;5;124m(.*?)\u001b[39m\u001b[38;5;124m\"\u001b[39m\u001b[38;5;124m,\u001b[39m\u001b[38;5;124m\"\u001b[39m\u001b[38;5;124mcreationTime\u001b[39m\u001b[38;5;124m\"\u001b[39m\u001b[38;5;124m'\u001b[39m)\n",
      "\u001b[1;31mNameError\u001b[0m: name 'sleep' is not defined"
     ]
    }
   ],
   "source": [
    "for n in range(0,1) : ###page5是拿不到的\n",
    "    url_comment = 'https://api.m.jd.com/?appid=item-v3&functionId=pc_club_productPageComments&client=pc&clientVersion=1.0.0&t=1709571830788&loginType=3&uuid=181111935.170957100638087579330.1709571006.1709571006.1709571006.1&productId=100066896214&score=0&sortType=6&page=' +str(n)+ '&pageSize=10&isShadowSku=0&fold=1&bbtf=&shield='\n",
    "    sleep(sleeptime)\n",
    "    data = requests.get(url_comment,headers = headers).text\n",
    "    comment_content = re.compile('\"content\":\"(.*?)\",\"creationTime\"')\n",
    "    comment_creatime = re.compile('\"referenceTime\":\"(.*?)\",\"nickname\"')\n",
    "    comment_score = re.compile('\"score\":(\\d+),')\n",
    "    comment_location = re.compile('\"location\":\"(.*?)\",\"status\"')\n",
    "    texts1.extend(comment_content.findall(data))\n",
    "    texts2.extend(comment_creatime.findall(data))\n",
    "    texts3.extend(comment_score.findall(data))\n",
    "    texts4.extend(comment_location.findall(data))\n",
    "    ###了解进度\n",
    "    print('爬完了第'+str(n+1)+'页')"
   ]
  },
  {
   "cell_type": "code",
   "execution_count": null,
   "id": "1a335942",
   "metadata": {
    "scrolled": false
   },
   "outputs": [],
   "source": [
    "texts1"
   ]
  },
  {
   "cell_type": "code",
   "execution_count": 3,
   "id": "3948f56b",
   "metadata": {
    "scrolled": true
   },
   "outputs": [
    {
     "data": {
      "text/plain": [
       "[]"
      ]
     },
     "execution_count": 3,
     "metadata": {},
     "output_type": "execute_result"
    }
   ],
   "source": [
    "texts2"
   ]
  },
  {
   "cell_type": "code",
   "execution_count": null,
   "id": "434110df",
   "metadata": {
    "scrolled": false
   },
   "outputs": [],
   "source": [
    "texts3"
   ]
  },
  {
   "cell_type": "code",
   "execution_count": 30,
   "id": "1fb0db84",
   "metadata": {},
   "outputs": [
    {
     "data": {
      "text/plain": [
       "['江西',\n",
       " '新疆',\n",
       " '四川',\n",
       " '江苏',\n",
       " '河南',\n",
       " '上海',\n",
       " '江苏',\n",
       " '北京',\n",
       " '广东',\n",
       " '江苏',\n",
       " '江西',\n",
       " '新疆',\n",
       " '四川',\n",
       " '江苏',\n",
       " '河南',\n",
       " '上海',\n",
       " '江苏',\n",
       " '北京',\n",
       " '广东',\n",
       " '江苏']"
      ]
     },
     "execution_count": 30,
     "metadata": {},
     "output_type": "execute_result"
    }
   ],
   "source": [
    "texts4"
   ]
  },
  {
   "cell_type": "code",
   "execution_count": null,
   "id": "a01b586c",
   "metadata": {},
   "outputs": [],
   "source": []
  }
 ],
 "metadata": {
  "kernelspec": {
   "display_name": "Python 3 (ipykernel)",
   "language": "python",
   "name": "python3"
  },
  "language_info": {
   "codemirror_mode": {
    "name": "ipython",
    "version": 3
   },
   "file_extension": ".py",
   "mimetype": "text/x-python",
   "name": "python",
   "nbconvert_exporter": "python",
   "pygments_lexer": "ipython3",
   "version": "3.11.3"
  }
 },
 "nbformat": 4,
 "nbformat_minor": 5
}
