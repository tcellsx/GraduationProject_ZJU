{
 "cells": [
  {
   "cell_type": "code",
   "execution_count": null,
   "id": "4301dad3",
   "metadata": {
    "scrolled": false
   },
   "outputs": [
    {
     "name": "stdout",
     "output_type": "stream",
     "text": [
      "爬完了第1页\n",
      "爬完了第2页\n",
      "爬完了第3页\n",
      "爬完了第4页\n",
      "爬完了第5页\n",
      "爬完了第6页\n",
      "爬完了第7页\n",
      "爬完了第8页\n",
      "爬完了第9页\n",
      "爬完了第10页\n",
      "爬完了第11页\n",
      "爬完了第12页\n",
      "爬完了第13页\n",
      "爬完了第14页\n",
      "爬完了第15页\n",
      "爬完了第16页\n",
      "爬完了第17页\n",
      "爬完了第18页\n",
      "爬完了第19页\n",
      "爬完了第20页\n",
      "爬完了第21页\n",
      "爬完了第22页\n",
      "爬完了第23页\n",
      "爬完了第24页\n",
      "爬完了第25页\n",
      "爬完了第26页\n",
      "爬完了第27页\n",
      "爬完了第28页\n",
      "爬完了第29页\n",
      "爬完了第30页\n",
      "爬完了第31页\n",
      "爬完了第32页\n",
      "爬完了第33页\n",
      "爬完了第34页\n",
      "爬完了第35页\n",
      "爬完了第36页\n",
      "爬完了第37页\n",
      "爬完了第38页\n",
      "爬完了第39页\n",
      "爬完了第40页\n",
      "爬完了第41页\n",
      "爬完了第42页\n",
      "爬完了第43页\n",
      "爬完了第44页\n",
      "爬完了第45页\n",
      "爬完了第46页\n",
      "爬完了第47页\n",
      "爬完了第48页\n",
      "爬完了第49页\n",
      "爬完了第50页\n",
      "爬完了第51页\n",
      "爬完了第52页\n",
      "爬完了第53页\n",
      "爬完了第54页\n",
      "爬完了第55页\n",
      "爬完了第56页\n",
      "爬完了第57页\n",
      "爬完了第58页\n",
      "爬完了第59页\n",
      "爬完了第60页\n",
      "爬完了第61页\n",
      "爬完了第62页\n",
      "爬完了第63页\n",
      "爬完了第64页\n",
      "爬完了第65页\n",
      "爬完了第66页\n",
      "爬完了第67页\n",
      "爬完了第68页\n",
      "爬完了第69页\n",
      "爬完了第70页\n",
      "爬完了第71页\n",
      "爬完了第72页\n",
      "爬完了第73页\n",
      "爬完了第74页\n",
      "爬完了第75页\n",
      "爬完了第76页\n",
      "爬完了第77页\n",
      "爬完了第78页\n",
      "爬完了第79页\n",
      "爬完了第80页\n",
      "爬完了第81页\n",
      "爬完了第82页\n",
      "爬完了第83页\n",
      "爬完了第84页\n",
      "爬完了第85页\n",
      "爬完了第86页\n",
      "爬完了第87页\n",
      "爬完了第88页\n",
      "爬完了第89页\n",
      "爬完了第90页\n",
      "爬完了第91页\n",
      "爬完了第92页\n",
      "爬完了第93页\n",
      "爬完了第94页\n",
      "爬完了第95页\n",
      "爬完了第96页\n",
      "爬完了第97页\n",
      "爬完了第98页\n",
      "爬完了第99页\n",
      "爬完了第100页\n",
      "爬完了第101页\n",
      "爬完了第102页\n",
      "爬完了第103页\n",
      "爬完了第104页\n",
      "爬完了第105页\n",
      "爬完了第106页\n",
      "爬完了第107页\n",
      "爬完了第108页\n",
      "爬完了第109页\n",
      "爬完了第110页\n",
      "爬完了第111页\n",
      "爬完了第112页\n",
      "爬完了第113页\n",
      "爬完了第114页\n",
      "爬完了第115页\n",
      "爬完了第116页\n",
      "爬完了第117页\n",
      "爬完了第118页\n",
      "爬完了第119页\n",
      "爬完了第120页\n",
      "爬完了第121页\n",
      "爬完了第122页\n",
      "爬完了第123页\n",
      "爬完了第124页\n",
      "爬完了第125页\n",
      "爬完了第126页\n",
      "爬完了第127页\n",
      "爬完了第128页\n"
     ]
    }
   ],
   "source": [
    "import requests\n",
    "import re\n",
    "from time import sleep\n",
    "import json\n",
    "\n",
    "texts1 = []\n",
    "texts2 = []\n",
    "texts3 = []\n",
    "texts4 = []\n",
    "\n",
    "# 定义函数来获取评论数据并处理\n",
    "def get_comments(page):\n",
    "    url_comment = 'https://mapi.vip.com/vips-mobile/rest/content/reputation/queryBySpuId_for_pc?callback=getCommentDataCb&app_name=shop_pc&app_version=4.0&warehouse=VIP_SH&fdc_area_id=103103104&client=pc&mobile_platform=1&province_id=103103&api_key=70f71280d5d547b2a7bb370a529aeea1&user_id=518556099&mars_cid=1711539313961_b297c0b320a75cfd43f85bd97b36ab4d&wap_consumer=c&spuId=1111621993233883138&brandId=1710612760&page={}&pageSize=10&functions=angle&timestamp=1711541362000&keyWordNlp=%E5%85%A8%E9%83%A8-%E6%8C%89%E9%BB%98%E8%AE%A4%E6%8E%92%E5%BA%8F&_=1711541337136'.format(page)\n",
    "    headers = {\n",
    "        'referer': 'https://detail.vip.com/',\n",
    "        'User-Agent': 'Mozilla/5.0 (Windows NT 10.0; Win64; x64) AppleWebKit/537.36 (KHTML, like Gecko) Chrome/122.0.0.0 Safari/537.36 Edg/122.0.0.0',\n",
    "        'Cookie':'vip_cps_cuid=CU1711539240370dcb0d7a12f157bbd1; vip_cps_cid=1711539240372_ab277633d3abc0f430cc899317712b8d; cps_share=cps_share; cps=adp%3AC01V4mnh50j06d52%3A%40_%401711539240371%3Amig_code%3Ad9f31588f2733e5ad6096f6053ca7fc9%3Aac014mnh500000hlx91frc7qsfe0sva5; PAPVisitorId=b6ab840dd4389e41410d268b7d322124; vip_new_old_user=1; vip_city_name=%E5%B9%BF%E5%B7%9E%E5%B8%82; mars_cid=1711539313961_b297c0b320a75cfd43f85bd97b36ab4d; mars_sid=e93215cbea82314ee7c6146e58b2bbe6; mars_pid=0; visit_id=C26CC9D5E63C583BE17B1657D8157635; vip_address=%257B%2522pname%2522%253A%2522%255Cu6d59%255Cu6c5f%255Cu7701%2522%252C%2522pid%2522%253A%2522103103%2522%252C%2522cname%2522%253A%2522%255Cu5e7f%255Cu5dde%255Cu5e02%2522%252C%2522cid%2522%253A%2522103103104%2522%257D; vip_province=103103; vip_province_name=%E6%B5%99%E6%B1%9F%E7%9C%81; vip_city_code=103103104; vip_wh=VIP_SH; vip_ipver=31; vip_access_times=%7B%22list%22%3A2%2C%22detail%22%3A2%7D; VipDFT=-73; vipshop_passport_src=https%3A%2F%2Fcategory.vip.com%2Fsuggest.php%3Fkeyword%3Diphone15; _jzqco=%7C%7C%7C%7C%7C1.1255773935.1711541319567.1711541319567.1711541319568.1711541319567.1711541319568.0.0.0.1.1; vip_tracker_source_from=; PASSPORT_ACCESS_TOKEN=5EE01543989993B96903D12FC76B3BAA31D429AE; VipRUID=518556099; VipUID=e69cf9b7214bdeafc95b2eed82c47858; VipRNAME=ph_*****************************fcf; VipLID=0%7C1711541259%7C52e863; VipDegree=D1; user_class=c; VipUINFO=luc%3Ac%7Csuc%3Ac%7Cbct%3Ac_new%7Chct%3Ac_new%7Cbdts%3A0%7Cbcts%3A0%7Ckfts%3A0%7Cc10%3A0%7Crcabt%3A0%7Cp2%3A0%7Cp3%3A1%7Cp4%3A0%7Cp5%3A1%7Cul%3A3105; pg_session_no=14; waitlist=%7B%22pollingId%22%3A%225D30CDBB-1255-4529-B963-03B50305F4E1%22%2C%22pollingStamp%22%3A1711541362118%7D'  # 请替换为您的Cookie\n",
    "    }\n",
    "    sleep(3)\n",
    "    response = requests.get(url_comment, headers=headers)\n",
    "    \n",
    "    # 检查返回的内容类型是否为JavaScript\n",
    "    content_type = response.headers.get('Content-Type', '')\n",
    "    if 'text/javascript' not in content_type:\n",
    "        print('Error: Unexpected content type:', content_type)\n",
    "        return\n",
    "\n",
    "    # 从JavaScript中提取JSON数据\n",
    "    match = re.search(r'getCommentDataCb\\((.*)\\)', response.text)\n",
    "    if match:\n",
    "        json_data = match.group(1)\n",
    "        data1 = json.loads(json_data)\n",
    "        \n",
    "\n",
    "        for item in data1.get('data', []):\n",
    "            reputation = item.get('reputation', {})\n",
    "            content = reputation.get('content', '')\n",
    "            timeDesc = reputation.get('timeDesc', '')\n",
    "            satisfiedStatus = reputation.get('satisfiedStatus', '')\n",
    "            address = reputation.get('address', '')\n",
    "            texts1.append(content)\n",
    "            texts2.append(timeDesc)\n",
    "            texts3.append(satisfiedStatus)\n",
    "            texts4.append(address)\n",
    "            \n",
    "\n",
    "\n",
    "        # 存储评论数据到文件\n",
    "        with open('comments_data.txt', 'w', encoding='utf-8') as f:\n",
    "            for content, timeDesc, satisfiedStatus, address in zip(texts1, texts2, texts3, texts4):\n",
    "                f.write(f\"评论内容: {content}\\n\")\n",
    "                f.write(f\"评论时间: {timeDesc}\\n\")\n",
    "                f.write(f\"评分: {satisfiedStatus}\\n\")\n",
    "                f.write(f\"位置: {address}\\n\\n\")\n",
    "                \n",
    "        with open('comments_data_content.txt', 'w', encoding='utf-8') as f1:\n",
    "            for content in texts1:\n",
    "                f1.write(f\"评论内容: {content}\\n\\n\")\n",
    "                \n",
    "        with open('comments_data_creatime.txt', 'w', encoding='utf-8') as f2:\n",
    "            for timeDesc in texts2:\n",
    "                f2.write(f\"评论时间: {timeDesc}\\n\")\n",
    "                \n",
    "        with open('comments_data_score.txt', 'w', encoding='utf-8') as f3:\n",
    "            for satisfiedStatus in texts3:\n",
    "                f3.write(f\"评分: {satisfiedStatus}\\n\")\n",
    "                \n",
    "        with open('comments_data_location.txt', 'w', encoding='utf-8') as f4:\n",
    "            for address in texts4:\n",
    "                f4.write(f\"位置: {address}\\n\")\n",
    "            \n",
    "    else:\n",
    "        print('Error: Failed to extract JSON data from JavaScript')\n",
    "\n",
    "# 循环获取评论数据\n",
    "for page in range(0, 200):  # 这里只爬取一页\n",
    "    get_comments(page)\n",
    "    print('爬完了第' + str(page + 1) + '页')\n"
   ]
  },
  {
   "cell_type": "code",
   "execution_count": 20,
   "id": "880dbd34",
   "metadata": {
    "scrolled": false
   },
   "outputs": [
    {
     "data": {
      "text/plain": [
       "[]"
      ]
     },
     "execution_count": 20,
     "metadata": {},
     "output_type": "execute_result"
    }
   ],
   "source": [
    "texts2"
   ]
  },
  {
   "cell_type": "code",
   "execution_count": 21,
   "id": "0eada760",
   "metadata": {},
   "outputs": [
    {
     "data": {
      "text/plain": [
       "[]"
      ]
     },
     "execution_count": 21,
     "metadata": {},
     "output_type": "execute_result"
    }
   ],
   "source": [
    "texts1"
   ]
  },
  {
   "cell_type": "code",
   "execution_count": 22,
   "id": "bef30edd",
   "metadata": {},
   "outputs": [
    {
     "data": {
      "text/plain": [
       "[]"
      ]
     },
     "execution_count": 22,
     "metadata": {},
     "output_type": "execute_result"
    }
   ],
   "source": [
    "texts3"
   ]
  },
  {
   "cell_type": "code",
   "execution_count": null,
   "id": "23c5a7e3",
   "metadata": {},
   "outputs": [],
   "source": []
  }
 ],
 "metadata": {
  "kernelspec": {
   "display_name": "Python 3 (ipykernel)",
   "language": "python",
   "name": "python3"
  },
  "language_info": {
   "codemirror_mode": {
    "name": "ipython",
    "version": 3
   },
   "file_extension": ".py",
   "mimetype": "text/x-python",
   "name": "python",
   "nbconvert_exporter": "python",
   "pygments_lexer": "ipython3",
   "version": "3.11.3"
  }
 },
 "nbformat": 4,
 "nbformat_minor": 5
}
