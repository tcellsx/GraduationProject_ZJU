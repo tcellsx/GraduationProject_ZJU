{
 "cells": [
  {
   "cell_type": "code",
   "execution_count": 2,
   "id": "49fe29d6",
   "metadata": {},
   "outputs": [
    {
     "name": "stdout",
     "output_type": "stream",
     "text": [
      "Collecting pyppeteer\n",
      "  Downloading pyppeteer-2.0.0-py3-none-any.whl (82 kB)\n",
      "                                              0.0/82.9 kB ? eta -:--:--\n",
      "                                              0.0/82.9 kB ? eta -:--:--\n",
      "     --------------                           30.7/82.9 kB 1.4 MB/s eta 0:00:01\n",
      "     ------------------                     41.0/82.9 kB 991.0 kB/s eta 0:00:01\n",
      "     ------------------                     41.0/82.9 kB 991.0 kB/s eta 0:00:01\n",
      "     -------------------------------------- 82.9/82.9 kB 518.9 kB/s eta 0:00:00\n",
      "Requirement already satisfied: appdirs<2.0.0,>=1.4.3 in d:\\anaconda\\lib\\site-packages (from pyppeteer) (1.4.4)\n",
      "Requirement already satisfied: certifi>=2023 in d:\\anaconda\\lib\\site-packages (from pyppeteer) (2023.5.7)\n",
      "Requirement already satisfied: importlib-metadata>=1.4 in d:\\anaconda\\lib\\site-packages (from pyppeteer) (6.0.0)\n",
      "Collecting pyee<12.0.0,>=11.0.0 (from pyppeteer)\n",
      "  Downloading pyee-11.1.0-py3-none-any.whl (15 kB)\n",
      "Requirement already satisfied: tqdm<5.0.0,>=4.42.1 in d:\\anaconda\\lib\\site-packages (from pyppeteer) (4.65.0)\n",
      "Requirement already satisfied: urllib3<2.0.0,>=1.25.8 in d:\\anaconda\\lib\\site-packages (from pyppeteer) (1.26.16)\n",
      "Collecting websockets<11.0,>=10.0 (from pyppeteer)\n",
      "  Downloading websockets-10.4-cp311-cp311-win_amd64.whl (101 kB)\n",
      "                                              0.0/101.4 kB ? eta -:--:--\n",
      "     ----------------                         41.0/101.4 kB ? eta -:--:--\n",
      "     ------------------                    51.2/101.4 kB 435.7 kB/s eta 0:00:01\n",
      "     ------------------                    51.2/101.4 kB 435.7 kB/s eta 0:00:01\n",
      "     ------------------                    51.2/101.4 kB 435.7 kB/s eta 0:00:01\n",
      "     ------------------------------------ 101.4/101.4 kB 449.3 kB/s eta 0:00:00\n",
      "Requirement already satisfied: zipp>=0.5 in d:\\anaconda\\lib\\site-packages (from importlib-metadata>=1.4->pyppeteer) (3.11.0)\n",
      "Requirement already satisfied: typing-extensions in d:\\anaconda\\lib\\site-packages (from pyee<12.0.0,>=11.0.0->pyppeteer) (4.6.3)\n",
      "Requirement already satisfied: colorama in d:\\anaconda\\lib\\site-packages (from tqdm<5.0.0,>=4.42.1->pyppeteer) (0.4.6)\n",
      "Installing collected packages: websockets, pyee, pyppeteer\n",
      "Successfully installed pyee-11.1.0 pyppeteer-2.0.0 websockets-10.4\n",
      "Note: you may need to restart the kernel to use updated packages.\n"
     ]
    }
   ],
   "source": [
    "pip install pyppeteer"
   ]
  },
  {
   "cell_type": "code",
   "execution_count": 3,
   "id": "4301dad3",
   "metadata": {
    "scrolled": true
   },
   "outputs": [
    {
     "name": "stdout",
     "output_type": "stream",
     "text": [
      "初次使用需手动登陆一下淘宝账户并更改一下cookie和url（为此需将时间间隔先延长一下以方便登录），在爬取大约30左右的商品数据时，淘宝页面会要求再次登陆账户或滑动验证，由于本人技术有限，目前还仍无法解决\n"
     ]
    },
    {
     "ename": "RuntimeError",
     "evalue": "This event loop is already running",
     "output_type": "error",
     "traceback": [
      "\u001b[1;31m---------------------------------------------------------------------------\u001b[0m",
      "\u001b[1;31mRuntimeError\u001b[0m                              Traceback (most recent call last)",
      "Cell \u001b[1;32mIn[3], line 73\u001b[0m\n\u001b[0;32m     70\u001b[0m \u001b[38;5;28;01mif\u001b[39;00m \u001b[38;5;18m__name__\u001b[39m \u001b[38;5;241m==\u001b[39m \u001b[38;5;124m'\u001b[39m\u001b[38;5;124m__main__\u001b[39m\u001b[38;5;124m'\u001b[39m:\n\u001b[0;32m     71\u001b[0m     \u001b[38;5;28mprint\u001b[39m(\u001b[38;5;124m'\u001b[39m\u001b[38;5;124m初次使用需手动登陆一下淘宝账户并更改一下cookie和url（为此需将时间间隔先延长一下以方便登录），\u001b[39m\u001b[38;5;124m'\u001b[39m\n\u001b[0;32m     72\u001b[0m           \u001b[38;5;124m'\u001b[39m\u001b[38;5;124m在爬取大约30左右的商品数据时，淘宝页面会要求再次登陆账户或滑动验证，由于本人技术有限，目前还仍无法解决\u001b[39m\u001b[38;5;124m'\u001b[39m)\n\u001b[1;32m---> 73\u001b[0m     asyncio\u001b[38;5;241m.\u001b[39mget_event_loop()\u001b[38;5;241m.\u001b[39mrun_until_complete(main())\n",
      "File \u001b[1;32mD:\\anaconda\\Lib\\asyncio\\base_events.py:629\u001b[0m, in \u001b[0;36mBaseEventLoop.run_until_complete\u001b[1;34m(self, future)\u001b[0m\n\u001b[0;32m    618\u001b[0m \u001b[38;5;250m\u001b[39m\u001b[38;5;124;03m\"\"\"Run until the Future is done.\u001b[39;00m\n\u001b[0;32m    619\u001b[0m \n\u001b[0;32m    620\u001b[0m \u001b[38;5;124;03mIf the argument is a coroutine, it is wrapped in a Task.\u001b[39;00m\n\u001b[1;32m   (...)\u001b[0m\n\u001b[0;32m    626\u001b[0m \u001b[38;5;124;03mReturn the Future's result, or raise its exception.\u001b[39;00m\n\u001b[0;32m    627\u001b[0m \u001b[38;5;124;03m\"\"\"\u001b[39;00m\n\u001b[0;32m    628\u001b[0m \u001b[38;5;28mself\u001b[39m\u001b[38;5;241m.\u001b[39m_check_closed()\n\u001b[1;32m--> 629\u001b[0m \u001b[38;5;28mself\u001b[39m\u001b[38;5;241m.\u001b[39m_check_running()\n\u001b[0;32m    631\u001b[0m new_task \u001b[38;5;241m=\u001b[39m \u001b[38;5;129;01mnot\u001b[39;00m futures\u001b[38;5;241m.\u001b[39misfuture(future)\n\u001b[0;32m    632\u001b[0m future \u001b[38;5;241m=\u001b[39m tasks\u001b[38;5;241m.\u001b[39mensure_future(future, loop\u001b[38;5;241m=\u001b[39m\u001b[38;5;28mself\u001b[39m)\n",
      "File \u001b[1;32mD:\\anaconda\\Lib\\asyncio\\base_events.py:588\u001b[0m, in \u001b[0;36mBaseEventLoop._check_running\u001b[1;34m(self)\u001b[0m\n\u001b[0;32m    586\u001b[0m \u001b[38;5;28;01mdef\u001b[39;00m \u001b[38;5;21m_check_running\u001b[39m(\u001b[38;5;28mself\u001b[39m):\n\u001b[0;32m    587\u001b[0m     \u001b[38;5;28;01mif\u001b[39;00m \u001b[38;5;28mself\u001b[39m\u001b[38;5;241m.\u001b[39mis_running():\n\u001b[1;32m--> 588\u001b[0m         \u001b[38;5;28;01mraise\u001b[39;00m \u001b[38;5;167;01mRuntimeError\u001b[39;00m(\u001b[38;5;124m'\u001b[39m\u001b[38;5;124mThis event loop is already running\u001b[39m\u001b[38;5;124m'\u001b[39m)\n\u001b[0;32m    589\u001b[0m     \u001b[38;5;28;01mif\u001b[39;00m events\u001b[38;5;241m.\u001b[39m_get_running_loop() \u001b[38;5;129;01mis\u001b[39;00m \u001b[38;5;129;01mnot\u001b[39;00m \u001b[38;5;28;01mNone\u001b[39;00m:\n\u001b[0;32m    590\u001b[0m         \u001b[38;5;28;01mraise\u001b[39;00m \u001b[38;5;167;01mRuntimeError\u001b[39;00m(\n\u001b[0;32m    591\u001b[0m             \u001b[38;5;124m'\u001b[39m\u001b[38;5;124mCannot run the event loop while another loop is running\u001b[39m\u001b[38;5;124m'\u001b[39m)\n",
      "\u001b[1;31mRuntimeError\u001b[0m: This event loop is already running"
     ]
    }
   ],
   "source": [
    "import requests\n",
    "import bs4\n",
    "import re\n",
    "import asyncio\n",
    "from pyppeteer import launch\n",
    "import logging\n",
    "\n",
    " \n",
    "logging.basicConfig(level=logging.INFO, format='%(asctime)s - %(levelname)s - %(message)s')\n",
    "headers = {\n",
    "    \"User-Agent\":\"Mozilla/5.0 (Linux; Android 6.0; Nexus 5 Build/MRA58N) AppleWebKit/537.36 (KHTML, like Gecko) Chrome/123.0.0.0 Mobile Safari/537.36\"     'Accept': \"text/html,application/xhtml+xml,application/xml;q=0.9,image/avif,image/webp,image/apng,*/*;q=0.8,application/signed-exchange;v=b3;q=0.7\",\n",
    "    'Accept-Encoding': 'gzip, deflate, br',\n",
    "    'Cookie': 'cna=s0pgHhOYmH4CAbfHGmyPphWO; lgc=tb689790719; t=e5a299de61b87074452deab6b795ac00; tracknick=tb689790719; thw=cn; mt=ci=-1_0; cookie2=1d4d5254ec1ba74b7053064c1fd82983; _tb_token_=3b13ed763ede7; mtop_partitioned_detect=1; _m_h5_tk=c10619f38334ff2bf75cdb8e78770db1_1709476385175; _m_h5_tk_enc=149bd3df9f7727e715fbb0e33b28b48a; _samesite_flag_=true; 3PcFlag=1709467390385; sgcookie=E100odpWLuezrhV36aA1r7zGqDnbLtgO%2BYBEX6vizuEbMqA6iW5Io%2BHxDEVQViysEFPbauMyeybWCgKTc0dmVw2t9bN0QwSjgTxLxGFjdxjJ1ro%3D; unb=2208625401184; uc1=cookie14=UoYenMkfIiZDew%3D%3D&cookie15=URm48syIIVrSKA%3D%3D&existShop=false&cookie16=URm48syIJ1yk0MX2J7mAAEhTuw%3D%3D&pas=0&cookie21=UIHiLt3xTIkz; uc3=lg2=Vq8l%2BKCLz3%2F65A%3D%3D&nk2=F5RDJLZq6ZJGLo4%3D&id2=UUphwoF2mIUtd82C8g%3D%3D&vt3=F8dD3enXMPXwhfYntE4%3D; csg=e133140c; cancelledSubSites=empty; cookie17=UUphwoF2mIUtd82C8g%3D%3D; dnk=tb689790719; skt=7b452f70ba13bbad; existShop=MTcwOTQ2NzM5NQ%3D%3D; uc4=id4=0%40U2grGRlKQP9%2BB7t7aZO%2FCRMClPN%2BDVxS&nk4=0%40FY4I57OrPEyhjzV142ydJIl4WcPQtA%3D%3D; _cc_=U%2BGCWk%2F7og%3D%3D; _l_g_=Ug%3D%3D; sg=942; _nk_=tb689790719; cookie1=W5iSujXFYoUu8r0yj7wZ0t4XlTsTZCfybTYqnXieytE%3D; tfstk=eIeBn4x7feYQvVOH5wsacZl9bAH5by62R3i8mupe2vHKy5Z0P2SltvPsPPUsJpShtb37-vhuT4uEPYZulG7V3tr3xY0RuZW2ozg0AYBC718axkDkjWEuBZrHFE40RMXW8abNEuW2Cdpof2qTmexBARitrqZQDcmgCuGIkt0MeDwsAXgYvgRp3qZyZQtsiLisuGs6ZQv2Egi-auIEmXniAAs1feMt9cmsuGs6ZQcKjcR1fGTIB; isg=BPj4FgK16b8JsgVK9IfjSbAxyaaKYVzrYDm8eTJpRDPmTZg32nEsew5rBcV9BhTD'\n",
    "\n",
    "}\n",
    "\n",
    "my_index_url = \"https://detail.m.tmall.com/item.htm?id=738605376921&downgrade_from=ssr&bxsign=scdYrbY0pVsqn6ybrwLp27V6tpDzAurz4VLy94d0DmNI4__yPOyDIKNCdXJXctxpjwsfs8TuEKvjpL_EPqC7VpBH8GyQdJvBF5imnc1NmHmYFpm5tBarzooyAafJjSj_n5JwLH_AyMmEAD8R-7niSdVRw&short_name=h.5ymTC92zsDuuBm5&un=5340c70dbec44b45e79f848755a33cd7&app=weixin&bc_fl_src=share-1041019246853754-2-1&cpp=1&share_crt_v=1&shareurl=true&sp_tk=ZzRjT1dMakhxbUw&spm=a2159r.13376460.0.0&tbSocialPopKey=shareItem&tk=g4cOWLjHqmL&un_site=0&ut_sk=1.ZUgwszk/FHQDAFK895FtO8cZ_21380790_1711608932724.TaoPassword-Weixin.1&detail_downgrade_from=true&isNew=false&downgradesource=h5_2#mui-cover-0\"\n",
    "async def get_detail(index_url):\n",
    "    logging.info('正在爬取商品列表页')\n",
    "    response = requests.get(index_url, headers=headers)\n",
    "    soup = bs4.BeautifulSoup(response.text, features=\"lxml\")\n",
    "\n",
    "    print(soup.prettify())\n",
    "    urls = re.findall(r'\"auctionURL\":\"(.*?)\"', soup.prettify(), re.S)  # 获取详情页\n",
    "    return urls\n",
    "\n",
    "\n",
    "async def get_evaluations(detail_url):\n",
    "    await asyncio.sleep(1)  # 点击过快好像会提前触发淘宝反爬，所以设置了时间间隔\n",
    "    browser = await launch(headless=False, devtools=False, args=[f'--window-size={1366},{768}', ],\n",
    "                           userDataDir=r'D:', )  # 这里的文件路径需要重新设置一下\n",
    "    page = await browser.newPage()\n",
    "    await page.setViewport({'width': 1366, 'height': 768})  # 调整页面大小\n",
    "    await page.evaluateOnNewDocument(\n",
    "        'Object.defineProperty(navigator,\"webdriver\",{get:()=>undefined})')  # 隐蔽webdriver属性\n",
    "    await page.goto('https:' + detail_url)\n",
    "    await asyncio.sleep(1000)  # 等待加载页面\n",
    "    name = re.findall(r\"<title>(.*?)</title>\", await page.content(), re.S) if re.findall(r\"<title>(.*?)</title>\",\n",
    "                                                                                         await page.content(),\n",
    "                                                                                         re.S) else None\n",
    "    store = re.findall(r'class=\"ShopHeader--title--2qsBE1A\".*?title=\"(.*?)\"', await page.content(), re.S) if re.findall(\n",
    "        r'class=\"ShopHeader--title--2qsBE1A\".*?title=\"(.*?)\"', await page.content(), re.S) else None\n",
    "    button = await page.querySelectorAll('.Tabs--title--1Ov7S5f ')\n",
    "    await button[1].click()\n",
    "    await asyncio.sleep(1)\n",
    "    evaluations = re.findall(r'<div class=\"Comment--content--15w7fKj\">(.*?)</div>', await page.content(),\n",
    "                             re.S) if re.findall(r'<div class=\"Comment--content--15w7fKj\">(.*?)</div>',\n",
    "                                                 await page.content(), re.S) else None\n",
    "    logging.info('已完成对%s店铺的%s的爬取,评论为%s', store, name, evaluations)\n",
    "    await browser.close()\n",
    "    return {\n",
    "        'name': name,\n",
    "        'store': store,\n",
    "        'evaluations': evaluations\n",
    "    }\n",
    "\n",
    "\n",
    "async def main():\n",
    "    urls = await get_detail(my_index_url)\n",
    "    print(urls)\n",
    "    with open('goods.txt', 'a', encoding='utf-8') as gd:\n",
    "        for url in urls[3:]:  # 有时候urls会爬取一些其他商品的网址为此并没有从第一个开始\n",
    "            a = await get_evaluations(url)\n",
    "            gd.write(str(a) + '\\n')\n",
    "            logging.info('已获取商品内容')\n",
    "\n",
    "\n",
    "if __name__ == '__main__':\n",
    "    print('初次使用需手动登陆一下淘宝账户并更改一下cookie和url（为此需将时间间隔先延长一下以方便登录），'\n",
    "          '在爬取大约30左右的商品数据时，淘宝页面会要求再次登陆账户或滑动验证，由于本人技术有限，目前还仍无法解决')\n",
    "    asyncio.get_event_loop().run_until_complete(main())"
   ]
  },
  {
   "cell_type": "code",
   "execution_count": 20,
   "id": "880dbd34",
   "metadata": {
    "scrolled": false
   },
   "outputs": [
    {
     "data": {
      "text/plain": [
       "[]"
      ]
     },
     "execution_count": 20,
     "metadata": {},
     "output_type": "execute_result"
    }
   ],
   "source": [
    "texts2"
   ]
  },
  {
   "cell_type": "code",
   "execution_count": 21,
   "id": "0eada760",
   "metadata": {},
   "outputs": [
    {
     "data": {
      "text/plain": [
       "[]"
      ]
     },
     "execution_count": 21,
     "metadata": {},
     "output_type": "execute_result"
    }
   ],
   "source": [
    "texts1"
   ]
  },
  {
   "cell_type": "code",
   "execution_count": 22,
   "id": "bef30edd",
   "metadata": {},
   "outputs": [
    {
     "data": {
      "text/plain": [
       "[]"
      ]
     },
     "execution_count": 22,
     "metadata": {},
     "output_type": "execute_result"
    }
   ],
   "source": [
    "texts3"
   ]
  },
  {
   "cell_type": "code",
   "execution_count": null,
   "id": "23c5a7e3",
   "metadata": {},
   "outputs": [],
   "source": []
  }
 ],
 "metadata": {
  "kernelspec": {
   "display_name": "Python 3 (ipykernel)",
   "language": "python",
   "name": "python3"
  },
  "language_info": {
   "codemirror_mode": {
    "name": "ipython",
    "version": 3
   },
   "file_extension": ".py",
   "mimetype": "text/x-python",
   "name": "python",
   "nbconvert_exporter": "python",
   "pygments_lexer": "ipython3",
   "version": "3.11.3"
  }
 },
 "nbformat": 4,
 "nbformat_minor": 5
}
