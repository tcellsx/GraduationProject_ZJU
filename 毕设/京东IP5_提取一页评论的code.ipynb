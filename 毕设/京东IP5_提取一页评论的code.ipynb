{
 "cells": [
  {
   "cell_type": "code",
   "execution_count": 1,
   "id": "205d74be",
   "metadata": {
    "scrolled": false
   },
   "outputs": [
    {
     "name": "stdout",
     "output_type": "stream",
     "text": [
      "Requirement already satisfied: selenium in d:\\anaconda\\lib\\site-packages (4.11.2)\n",
      "Requirement already satisfied: urllib3[socks]<3,>=1.26 in d:\\anaconda\\lib\\site-packages (from selenium) (1.26.16)\n",
      "Requirement already satisfied: trio~=0.17 in d:\\anaconda\\lib\\site-packages (from selenium) (0.22.2)\n",
      "Requirement already satisfied: trio-websocket~=0.9 in d:\\anaconda\\lib\\site-packages (from selenium) (0.10.3)\n",
      "Requirement already satisfied: certifi>=2021.10.8 in d:\\anaconda\\lib\\site-packages (from selenium) (2023.5.7)\n",
      "Requirement already satisfied: attrs>=20.1.0 in d:\\anaconda\\lib\\site-packages (from trio~=0.17->selenium) (22.1.0)\n",
      "Requirement already satisfied: sortedcontainers in d:\\anaconda\\lib\\site-packages (from trio~=0.17->selenium) (2.4.0)\n",
      "Requirement already satisfied: idna in d:\\anaconda\\lib\\site-packages (from trio~=0.17->selenium) (3.4)\n",
      "Requirement already satisfied: outcome in d:\\anaconda\\lib\\site-packages (from trio~=0.17->selenium) (1.2.0)\n",
      "Requirement already satisfied: sniffio in d:\\anaconda\\lib\\site-packages (from trio~=0.17->selenium) (1.2.0)\n",
      "Requirement already satisfied: cffi>=1.14 in d:\\anaconda\\lib\\site-packages (from trio~=0.17->selenium) (1.15.1)\n",
      "Requirement already satisfied: exceptiongroup in d:\\anaconda\\lib\\site-packages (from trio-websocket~=0.9->selenium) (1.1.2)\n",
      "Requirement already satisfied: wsproto>=0.14 in d:\\anaconda\\lib\\site-packages (from trio-websocket~=0.9->selenium) (1.2.0)\n",
      "Requirement already satisfied: PySocks!=1.5.7,<2.0,>=1.5.6 in d:\\anaconda\\lib\\site-packages (from urllib3[socks]<3,>=1.26->selenium) (1.7.1)\n",
      "Requirement already satisfied: pycparser in d:\\anaconda\\lib\\site-packages (from cffi>=1.14->trio~=0.17->selenium) (2.21)\n",
      "Requirement already satisfied: h11<1,>=0.9.0 in d:\\anaconda\\lib\\site-packages (from wsproto>=0.14->trio-websocket~=0.9->selenium) (0.14.0)\n"
     ]
    }
   ],
   "source": [
    "!pip install selenium"
   ]
  },
  {
   "cell_type": "code",
   "execution_count": 1,
   "id": "57627f20",
   "metadata": {},
   "outputs": [],
   "source": [
    "from selenium import webdriver"
   ]
  },
  {
   "cell_type": "code",
   "execution_count": 2,
   "id": "7cbecc74",
   "metadata": {},
   "outputs": [],
   "source": [
    "from selenium.webdriver.common.by import By ###XPATH"
   ]
  },
  {
   "cell_type": "code",
   "execution_count": 3,
   "id": "595845f2",
   "metadata": {},
   "outputs": [],
   "source": [
    "from selenium.webdriver.support.ui import Select ###下拉菜单（暂时没有用到，原以为的方法发生了错误）"
   ]
  },
  {
   "cell_type": "code",
   "execution_count": 4,
   "id": "6207727e",
   "metadata": {},
   "outputs": [],
   "source": [
    "from selenium.webdriver import ActionChains ###键鼠操作"
   ]
  },
  {
   "cell_type": "code",
   "execution_count": 5,
   "id": "ea640f8a",
   "metadata": {},
   "outputs": [],
   "source": [
    "import threading"
   ]
  },
  {
   "cell_type": "code",
   "execution_count": 22,
   "id": "a0aaaf2d",
   "metadata": {},
   "outputs": [],
   "source": [
    "import requests"
   ]
  },
  {
   "cell_type": "code",
   "execution_count": 36,
   "id": "05191a89",
   "metadata": {},
   "outputs": [],
   "source": [
    "import re ###正则表达式"
   ]
  },
  {
   "cell_type": "code",
   "execution_count": 6,
   "id": "643a6fee",
   "metadata": {},
   "outputs": [],
   "source": [
    "from time import sleep"
   ]
  },
  {
   "cell_type": "code",
   "execution_count": 7,
   "id": "c20fe8d7",
   "metadata": {},
   "outputs": [],
   "source": [
    "driver = webdriver.Chrome()"
   ]
  },
  {
   "cell_type": "code",
   "execution_count": 8,
   "id": "01a77442",
   "metadata": {},
   "outputs": [],
   "source": [
    "url = \"https://item.jd.com/100066896214.html\""
   ]
  },
  {
   "cell_type": "code",
   "execution_count": 9,
   "id": "a31482ed",
   "metadata": {},
   "outputs": [],
   "source": [
    "driver.get(url)"
   ]
  },
  {
   "cell_type": "markdown",
   "id": "7268c995",
   "metadata": {},
   "source": [
    "### 先自行登录\n",
    "### 然后与当前页面当中的元素进行交互\n",
    "### 接下来的内容就是调整评论排序为时间排序"
   ]
  },
  {
   "cell_type": "code",
   "execution_count": 10,
   "id": "a4b107d7",
   "metadata": {},
   "outputs": [],
   "source": [
    "sleep(3)"
   ]
  },
  {
   "cell_type": "code",
   "execution_count": 11,
   "id": "e4c1710c",
   "metadata": {},
   "outputs": [],
   "source": [
    "current_url = driver.current_url"
   ]
  },
  {
   "cell_type": "code",
   "execution_count": 12,
   "id": "140b572d",
   "metadata": {
    "scrolled": true
   },
   "outputs": [],
   "source": [
    "while current_url != url :\n",
    "    sleep(1)\n",
    "    current_url = driver.current_url"
   ]
  },
  {
   "cell_type": "code",
   "execution_count": 13,
   "id": "d0f469b0",
   "metadata": {},
   "outputs": [],
   "source": [
    "element1 = driver.find_element(By.XPATH,'//*[@id=\"detail\"]/div[1]/ul/li[5]')"
   ]
  },
  {
   "cell_type": "code",
   "execution_count": 14,
   "id": "1aa10cd5",
   "metadata": {},
   "outputs": [],
   "source": [
    "element1.click()"
   ]
  },
  {
   "cell_type": "code",
   "execution_count": 15,
   "id": "f487595d",
   "metadata": {},
   "outputs": [],
   "source": [
    "element2 = driver.find_element(By.XPATH,'//*[@id=\"comment\"]/div[2]/div[2]/div[1]/div/div/div[1]')"
   ]
  },
  {
   "cell_type": "code",
   "execution_count": 16,
   "id": "293d0ad3",
   "metadata": {},
   "outputs": [],
   "source": [
    "### driver.execute_script(\"arguments[0].textContent = '时间排序';\",element2) 只能修改值，无法影响实际页面"
   ]
  },
  {
   "cell_type": "code",
   "execution_count": 17,
   "id": "d07083d1",
   "metadata": {
    "scrolled": false
   },
   "outputs": [],
   "source": [
    "action  = ActionChains(driver) ###初始化键鼠操作"
   ]
  },
  {
   "cell_type": "code",
   "execution_count": 18,
   "id": "e8085b64",
   "metadata": {},
   "outputs": [],
   "source": [
    "action.move_to_element(element2).perform() ###移动到元素上"
   ]
  },
  {
   "cell_type": "code",
   "execution_count": 19,
   "id": "3c7d0668",
   "metadata": {},
   "outputs": [],
   "source": [
    "sleep(2) ###暂停两秒"
   ]
  },
  {
   "cell_type": "code",
   "execution_count": 20,
   "id": "34241bb1",
   "metadata": {},
   "outputs": [],
   "source": [
    "element3 = driver.find_element(By.XPATH,'//*[@id=\"comment\"]/div[2]/div[2]/div[1]/div/div/div[2]/ul/li[2]')"
   ]
  },
  {
   "cell_type": "code",
   "execution_count": 21,
   "id": "46ab4d09",
   "metadata": {},
   "outputs": [],
   "source": [
    "element3.click()"
   ]
  },
  {
   "cell_type": "markdown",
   "id": "53a0c8e1",
   "metadata": {},
   "source": [
    "## 数据请求"
   ]
  },
  {
   "cell_type": "markdown",
   "id": "b9e95dd6",
   "metadata": {},
   "source": [
    "### 开始爬取评论"
   ]
  },
  {
   "cell_type": "code",
   "execution_count": 25,
   "id": "1acac5c5",
   "metadata": {},
   "outputs": [],
   "source": [
    "###data = requests.get(url).text"
   ]
  },
  {
   "cell_type": "code",
   "execution_count": 26,
   "id": "fd92cba2",
   "metadata": {},
   "outputs": [],
   "source": [
    "###data"
   ]
  },
  {
   "cell_type": "markdown",
   "id": "a0c7cdc4",
   "metadata": {},
   "source": [
    "### 会发现评论其实并不在这个url当中，所以找一个评论去看它的Headers"
   ]
  },
  {
   "cell_type": "code",
   "execution_count": 27,
   "id": "ddb9e626",
   "metadata": {},
   "outputs": [],
   "source": [
    "url_comment1 = 'https://api.m.jd.com/?appid=item-v3&functionId=pc_club_productPageComments&client=pc&clientVersion=1.0.0&t=1709571830788&loginType=3&uuid=181111935.170957100638087579330.1709571006.1709571006.1709571006.1&productId=100066896214&score=0&sortType=6&page=0&pageSize=10&isShadowSku=0&fold=1&bbtf=&shield='"
   ]
  },
  {
   "cell_type": "code",
   "execution_count": 31,
   "id": "1155dea8",
   "metadata": {
    "scrolled": true
   },
   "outputs": [],
   "source": [
    "###data = requests.get(url_comment1).text\n",
    "###data\n",
    "###这两步就可以看见JD评论的内容啦，但是并不是所有的网站都可以，一般需要伪装"
   ]
  },
  {
   "cell_type": "markdown",
   "id": "c1f839e6",
   "metadata": {},
   "source": [
    "### 伪装的步骤"
   ]
  },
  {
   "cell_type": "code",
   "execution_count": 33,
   "id": "8e6ab292",
   "metadata": {},
   "outputs": [],
   "source": [
    "headers = {\n",
    "    # 从哪个页面发出数据请求，每个网站通常不同\n",
    "    'referer' : 'https://item.jd.com/',\n",
    "    # 使用的是什么浏览器\n",
    "    'User-Agent' : 'Mozilla/5.0 (Windows NT 10.0; Win64; x64) AppleWebKit/537.36 (KHTML, like Gecko) Chrome/122.0.0.0 Safari/537.36',\n",
    "    #明确是哪一个用户需要请求，建议使用登陆后的cookie\n",
    "    'Cookie' : 'jsavif=1; shshshfpa=90c324fd-2d11-b728-7246-58ac18e12e39-1709571006; shshshfpx=90c324fd-2d11-b728-7246-58ac18e12e39-1709571006; __jdv=181111935|direct|-|none|-|1709571006380; __jdu=170957100638087579330; areaId=15; mba_muid=170957100638087579330; wlfstk_smdl=ybdv0d6ti1i2lab4utxomxy6lh4lfeue; thor=5D27038F84B3FABC9730BA9ECE3F15C37F253D49DBD712861DFF7A5F7519038B6D38FF18575158FB7190BA3D852E0BE62A1F7A6FD30819FB4C7276B8918156A894DB1C0FBF0B252DF3A2F8DC4D459314B7D5C82D3C6569939FD4636B1FE32A29A4860AB5AD372F2CE5D76C873F2D1C4B079FEBEA2FB1E894D0CFD6080389ABA0FC4AE398DA964362C8218CC681CE9F8C1B8C2F0A6FCA61594C899FAFFF64C426; flash=2_1wPKpnFYU0gFtigeZye4rT-5Xo4F535OLqupCEp_qIWFJ8jKzzBZtidswA7rXXkm44ntAf1VtoWiRKAMj-ePG9rY1xw4YOYB6jxn7DTfmpk*; pinId=j3tjC9QCAcriuqWWwQ0X4w; pin=jd_RxZXMLfsSbIn; unick=jd_RxZXMLfsSbIn; ceshi3.com=000; _tp=SISCF1CiRIiX45f61px5Nw%3D%3D; _pst=jd_RxZXMLfsSbIn; 3AB9D23F7A4B3C9B=EZNSX7QPJDIZDRTKCFOVMFIIPDV5VS3QHN6JQBUFBMBMONZR754TCJUBJGYYGROSJGTN63MHP5X5CAOPZJX7JOHMWA; __jda=181111935.170957100638087579330.1709571006.1709571006.1709571006.1; __jdc=181111935; ipLoc-djd=15-1262-1267-56327; token=8fc105ae0b865291d7a39f6fc36593a5,3,949762; __tk=eedc42c0dca753bf52cb494f93cdbec6,3,949762; 3AB9D23F7A4B3CSS=jdd03EZNSX7QPJDIZDRTKCFOVMFIIPDV5VS3QHN6JQBUFBMBMONZR754TCJUBJGYYGROSJGTN63MHP5X5CAOPZJX7JOHMWAAAAAMOBJVCZNQAAAAADBUGT3TGNRHGRIX; _gia_d=1; __jdb=181111935.5.170957100638087579330|1.1709571006; shshshfpb=BApXe3-liCetANYrt31ZZnMCPMdujJ5_jBksWFylq9xJ1Ms3A-IO2'\n",
    "}"
   ]
  },
  {
   "cell_type": "code",
   "execution_count": 35,
   "id": "cf7de01c",
   "metadata": {
    "scrolled": true
   },
   "outputs": [
    {
     "data": {
      "text/plain": [
       "'{\"jwotestProduct\":null,\"score\":0,\"comments\":[{\"id\":20542219919,\"guid\":\"1aa6401d8ab0521aedd6a356f14bc0c2\",\"content\":\"一个月在京东上买了两台15，苹果拍照果真好看\",\"creationTime\":\"2024-03-05 01:15:56\",\"isDelete\":false,\"isTop\":false,\"userImageUrl\":\"misc.360buyimg.com/user/myjd-2015/css/i/peisong.jpg\",\"topped\":0,\"replyCount\":0,\"score\":5,\"usefulVoteCount\":0,\"userClient\":2,\"anonymousFlag\":1,\"plusAvailable\":201,\"mobileVersion\":\"12.3.5\",\"productColor\":\"蓝色\",\"productSize\":\"256GB\",\"textIntegral\":20,\"ownId\":1000000127,\"ownType\":0,\"extMap\":{\"buyCount\":2},\"location\":\"广东\",\"status\":1,\"referenceId\":\"100066896370\",\"referenceTime\":\"2024-01-18 23:55:54\",\"nickname\":\"j***v\",\"replyCount2\":0,\"userImage\":\"misc.360buyimg.com/user/myjd-2015/css/i/peisong.jpg\",\"orderId\":0,\"integral\":20,\"productSales\":\"[{\\\\\"dim\\\\\":3,\\\\\"saleName\\\\\":\\\\\"购买方式\\\\\",\\\\\"saleValue\\\\\":\\\\\"公开版\\\\\"}]\",\"referenceImage\":\"jfs/t1/228582/16/12657/36408/65dea63cF5089f750/125476edcaeed3a3.jpg\",\"referenceName\":\"Apple/苹果 iPhone 15 (A3092) 128GB 粉色 支持移动联通电信5G 双卡双待手机\",\"firstCategory\":9987,\"secondCategory\":653,\"thirdCategory\":655,\"aesPin\":null,\"days\":47,\"afterDays\":0},{\"id\":20542219111,\"guid\":\"1aa6401d8ab0521a308e600af2f1c66e\",\"content\":\"手感非常的棒，苹果拍照实在是太好看了\",\"creationTime\":\"2024-03-05 01:14:22\",\"isDelete\":false,\"isTop\":false,\"userImageUrl\":\"misc.360buyimg.com/user/myjd-2015/css/i/peisong.jpg\",\"topped\":0,\"replyCount\":0,\"score\":5,\"usefulVoteCount\":0,\"userClient\":2,\"anonymousFlag\":1,\"plusAvailable\":201,\"mobileVersion\":\"12.3.5\",\"productColor\":\"蓝色\",\"productSize\":\"256GB\",\"textIntegral\":20,\"ownId\":1000000127,\"ownType\":0,\"extMap\":{\"buyCount\":2},\"location\":\"广东\",\"status\":1,\"referenceId\":\"100066896370\",\"referenceTime\":\"2024-01-10 23:37:31\",\"nickname\":\"j***v\",\"replyCount2\":0,\"userImage\":\"misc.360buyimg.com/user/myjd-2015/css/i/peisong.jpg\",\"orderId\":0,\"integral\":20,\"productSales\":\"[{\\\\\"dim\\\\\":3,\\\\\"saleName\\\\\":\\\\\"购买方式\\\\\",\\\\\"saleValue\\\\\":\\\\\"公开版\\\\\"}]\",\"referenceImage\":\"jfs/t1/228582/16/12657/36408/65dea63cF5089f750/125476edcaeed3a3.jpg\",\"referenceName\":\"Apple/苹果 iPhone 15 (A3092) 128GB 粉色 支持移动联通电信5G 双卡双待手机\",\"firstCategory\":9987,\"secondCategory\":653,\"thirdCategory\":655,\"aesPin\":null,\"days\":55,\"afterDays\":0},{\"id\":20542205309,\"guid\":\"dcb9d04ca813afba38ded66cd4d8be5b\",\"content\":\"手机很nice，到手立马就用起来了，体验很棒\",\"creationTime\":\"2024-03-05 00:56:47\",\"isDelete\":false,\"isTop\":false,\"userImageUrl\":\"storage.360buyimg.com/i.imageUpload/31333736313635323130355f70737731343335373532373832373831_sma.jpg\",\"topped\":0,\"replyCount\":0,\"score\":5,\"usefulVoteCount\":0,\"userClient\":2,\"anonymousFlag\":1,\"plusAvailable\":201,\"mobileVersion\":\"12.4.1\",\"productColor\":\"黑色\",\"productSize\":\"256GB\",\"textIntegral\":20,\"ownId\":1000000127,\"ownType\":0,\"extMap\":{\"buyCount\":3},\"location\":\"上海\",\"status\":1,\"referenceId\":\"100066896338\",\"referenceTime\":\"2024-03-04 11:10:37\",\"nickname\":\"D***i\",\"replyCount2\":0,\"userImage\":\"storage.360buyimg.com/i.imageUpload/31333736313635323130355f70737731343335373532373832373831_sma.jpg\",\"orderId\":0,\"integral\":20,\"productSales\":\"[{\\\\\"dim\\\\\":3,\\\\\"saleName\\\\\":\\\\\"购买方式\\\\\",\\\\\"saleValue\\\\\":\\\\\"公开版\\\\\"}]\",\"referenceImage\":\"jfs/t1/228582/16/12657/36408/65dea63cF5089f750/125476edcaeed3a3.jpg\",\"referenceName\":\"Apple/苹果 iPhone 15 (A3092) 128GB 粉色 支持移动联通电信5G 双卡双待手机\",\"firstCategory\":9987,\"secondCategory\":653,\"thirdCategory\":655,\"aesPin\":null,\"days\":1,\"afterDays\":0},{\"id\":20542205243,\"guid\":\"dcb9d04ca813afbad98da1ab2e734603\",\"content\":\"包装很好，没有损毁的地方。手机参数都没错，没有配充电头，又重新买了一个，流畅谈不上，但胜在耐用。\",\"creationTime\":\"2024-03-05 00:56:05\",\"isDelete\":false,\"isTop\":false,\"userImageUrl\":\"storage.360buyimg.com/i.imageUpload/c0eeb2c9d1d431363334303936323938373830_sma.jpg\",\"topped\":0,\"replyCount\":0,\"score\":5,\"usefulVoteCount\":0,\"userClient\":4,\"anonymousFlag\":1,\"plusAvailable\":0,\"mobileVersion\":\"12.1.4\",\"productColor\":\"黑色\",\"productSize\":\"256GB\",\"textIntegral\":20,\"ownId\":1000000127,\"ownType\":0,\"extMap\":{\"buyCount\":1},\"location\":\"贵州\",\"status\":1,\"referenceId\":\"100066896338\",\"referenceTime\":\"2024-02-29 23:39:43\",\"nickname\":\"l***7\",\"replyCount2\":0,\"userImage\":\"storage.360buyimg.com/i.imageUpload/c0eeb2c9d1d431363334303936323938373830_sma.jpg\",\"orderId\":0,\"integral\":20,\"productSales\":\"[{\\\\\"dim\\\\\":3,\\\\\"saleName\\\\\":\\\\\"购买方式\\\\\",\\\\\"saleValue\\\\\":\\\\\"公开版\\\\\"}]\",\"referenceImage\":\"jfs/t1/228582/16/12657/36408/65dea63cF5089f750/125476edcaeed3a3.jpg\",\"referenceName\":\"Apple/苹果 iPhone 15 (A3092) 128GB 粉色 支持移动联通电信5G 双卡双待手机\",\"firstCategory\":9987,\"secondCategory\":653,\"thirdCategory\":655,\"aesPin\":null,\"days\":5,\"afterDays\":0},{\"id\":20542202306,\"guid\":\"c231dc65a1d7ce5346ed009d0bd599d8\",\"content\":\"屏幕太差了，颗粒感严重，千万不要在京东上面买东西，不是特别严重的问题不给退\",\"creationTime\":\"2024-03-05 00:51:53\",\"isDelete\":false,\"isTop\":false,\"userImageUrl\":\"storage.360buyimg.com/i.imageUpload/6a645f5569754f494e794d7576485231363230353039303739373934_sma.jpg\",\"topped\":0,\"replyCount\":0,\"score\":1,\"usefulVoteCount\":0,\"userClient\":2,\"anonymousFlag\":1,\"plusAvailable\":103,\"mobileVersion\":\"12.4.1\",\"productColor\":\"蓝色\",\"productSize\":\"256GB\",\"textIntegral\":20,\"ownId\":1000000127,\"ownType\":0,\"extMap\":{\"buyCount\":3},\"location\":\"江苏\",\"status\":1,\"referenceId\":\"100066896370\",\"referenceTime\":\"2024-02-24 13:49:27\",\"nickname\":\"来***S\",\"replyCount2\":0,\"userImage\":\"storage.360buyimg.com/i.imageUpload/6a645f5569754f494e794d7576485231363230353039303739373934_sma.jpg\",\"orderId\":0,\"integral\":20,\"productSales\":\"[{\\\\\"dim\\\\\":3,\\\\\"saleName\\\\\":\\\\\"购买方式\\\\\",\\\\\"saleValue\\\\\":\\\\\"公开版\\\\\"}]\",\"referenceImage\":\"jfs/t1/228582/16/12657/36408/65dea63cF5089f750/125476edcaeed3a3.jpg\",\"referenceName\":\"Apple/苹果 iPhone 15 (A3092) 128GB 粉色 支持移动联通电信5G 双卡双待手机\",\"firstCategory\":9987,\"secondCategory\":653,\"thirdCategory\":655,\"aesPin\":null,\"days\":10,\"afterDays\":0},{\"id\":20542194136,\"guid\":\"85d22fd7777e427aaae85a157de09cee\",\"content\":\"唾沫扒拉离谱太比起比脱发考虑啥\",\"creationTime\":\"2024-03-05 00:43:27\",\"isDelete\":false,\"isTop\":false,\"userImageUrl\":\"misc.360buyimg.com/user/myjd-2015/css/i/peisong.jpg\",\"topped\":0,\"replyCount\":0,\"score\":4,\"usefulVoteCount\":0,\"userClient\":4,\"anonymousFlag\":1,\"plusAvailable\":103,\"mobileVersion\":\"12.4.1\",\"productColor\":\"黑色\",\"productSize\":\"128GB\",\"textIntegral\":20,\"ownId\":1000000127,\"ownType\":0,\"extMap\":{\"buyCount\":1},\"location\":\"上海\",\"status\":1,\"referenceId\":\"100066896356\",\"referenceTime\":\"2024-02-24 01:23:31\",\"nickname\":\"C***6\",\"replyCount2\":0,\"userImage\":\"misc.360buyimg.com/user/myjd-2015/css/i/peisong.jpg\",\"orderId\":0,\"integral\":20,\"productSales\":\"[{\\\\\"dim\\\\\":3,\\\\\"saleName\\\\\":\\\\\"购买方式\\\\\",\\\\\"saleValue\\\\\":\\\\\"公开版\\\\\"}]\",\"referenceImage\":\"jfs/t1/228582/16/12657/36408/65dea63cF5089f750/125476edcaeed3a3.jpg\",\"referenceName\":\"Apple/苹果 iPhone 15 (A3092) 128GB 粉色 支持移动联通电信5G 双卡双待手机\",\"firstCategory\":9987,\"secondCategory\":653,\"thirdCategory\":655,\"aesPin\":null,\"days\":10,\"afterDays\":0},{\"id\":20542191891,\"guid\":\"66a6c55c105ea15a82473f9a84d925de\",\"content\":\"手机真心不错哦，非常喜欢\",\"creationTime\":\"2024-03-05 00:41:16\",\"isDelete\":false,\"isTop\":false,\"userImageUrl\":\"misc.360buyimg.com/user/myjd-2015/css/i/peisong.jpg\",\"topped\":0,\"replyCount\":0,\"score\":5,\"imageStatus\":1,\"usefulVoteCount\":0,\"userClient\":4,\"discussionId\":1474300188,\"imageCount\":3,\"anonymousFlag\":1,\"plusAvailable\":201,\"mobileVersion\":\"12.4.1\",\"images\":[{\"id\":-1804159164,\"imgUrl\":\"//img30.360buyimg.com/n0/s128x96_jfs/t1/177512/1/43387/43304/65e5f9aaFa5482258/828cd4c5867ac043.jpg\",\"imgTitle\":\"\",\"status\":0},{\"id\":-1804159163,\"imgUrl\":\"//img30.360buyimg.com/n0/s128x96_jfs/t1/98365/32/44440/63234/65e5f9aaFf7935158/0cc3dcef4e3cef2e.jpg\",\"imgTitle\":\"\",\"status\":0},{\"id\":-1804159162,\"imgUrl\":\"//img30.360buyimg.com/n0/s128x96_jfs/t1/109072/7/47669/147764/65e5f9abF3502a443/8ad9defa24684832.jpg\",\"imgTitle\":\"\",\"status\":0}],\"mergeOrderStatus\":2,\"productColor\":\"粉色\",\"productSize\":\"256GB\",\"textIntegral\":20,\"imageIntegral\":0,\"ownId\":1000000127,\"ownType\":0,\"extMap\":{\"buyCount\":13},\"location\":\"广东\",\"status\":1,\"referenceId\":\"100068388535\",\"referenceTime\":\"2024-01-31 17:42:05\",\"nickname\":\"歆***晏\",\"replyCount2\":0,\"userImage\":\"misc.360buyimg.com/user/myjd-2015/css/i/peisong.jpg\",\"orderId\":0,\"integral\":20,\"productSales\":\"[{\\\\\"dim\\\\\":3,\\\\\"saleName\\\\\":\\\\\"购买方式\\\\\",\\\\\"saleValue\\\\\":\\\\\"公开版\\\\\"}]\",\"referenceImage\":\"jfs/t1/228582/16/12657/36408/65dea63cF5089f750/125476edcaeed3a3.jpg\",\"referenceName\":\"Apple/苹果 iPhone 15 (A3092) 128GB 粉色 支持移动联通电信5G 双卡双待手机\",\"firstCategory\":9987,\"secondCategory\":653,\"thirdCategory\":655,\"aesPin\":null,\"days\":34,\"afterDays\":0},{\"id\":20542167449,\"guid\":\"f4101f69abf3e4b2b333239c63443732\",\"content\":\"不错，喜欢，帮朋友的，一天送上门，好快\\\\n不错，喜欢，帮朋友的，一天送上门，好快\\\\n不错，喜欢，帮朋友的，一天送上门，好快\\\\n不错，喜欢，帮朋友的，一天送上门，好快\",\"creationTime\":\"2024-03-05 00:21:59\",\"isDelete\":false,\"isTop\":false,\"userImageUrl\":\"misc.360buyimg.com/user/myjd-2015/css/i/peisong.jpg\",\"topped\":0,\"replyCount\":0,\"score\":5,\"usefulVoteCount\":0,\"userClient\":4,\"anonymousFlag\":1,\"plusAvailable\":201,\"mobileVersion\":\"12.4.0\",\"productColor\":\"黑色\",\"productSize\":\"256GB\",\"textIntegral\":20,\"ownId\":1000000127,\"ownType\":0,\"extMap\":{\"buyCount\":2},\"location\":\"广东\",\"status\":1,\"referenceId\":\"100066896338\",\"referenceTime\":\"2024-02-07 21:24:51\",\"nickname\":\"j***P\",\"replyCount2\":0,\"userImage\":\"misc.360buyimg.com/user/myjd-2015/css/i/peisong.jpg\",\"orderId\":0,\"integral\":20,\"productSales\":\"[{\\\\\"dim\\\\\":3,\\\\\"saleName\\\\\":\\\\\"购买方式\\\\\",\\\\\"saleValue\\\\\":\\\\\"公开版\\\\\"}]\",\"referenceImage\":\"jfs/t1/228582/16/12657/36408/65dea63cF5089f750/125476edcaeed3a3.jpg\",\"referenceName\":\"Apple/苹果 iPhone 15 (A3092) 128GB 粉色 支持移动联通电信5G 双卡双待手机\",\"firstCategory\":9987,\"secondCategory\":653,\"thirdCategory\":655,\"aesPin\":null,\"days\":27,\"afterDays\":0},{\"id\":20542165281,\"guid\":\"dd93ba8930414315f71070e09f4c7021\",\"content\":\"屏幕音效：音效音质好\\\\n拍照效果：不错\\\\n运行速度：非常快极其流畅\\\\n待机时间：还不错\\\\n其他特色：与其他苹果设备无缝衔接\\\\n不愧是京东自营的产品，物流速度很快，客服服务态度很好，必须支持京东自营\",\"creationTime\":\"2024-03-05 00:20:17\",\"isDelete\":false,\"isTop\":false,\"userImageUrl\":\"misc.360buyimg.com/user/myjd-2015/css/i/peisong.jpg\",\"topped\":0,\"replyCount\":0,\"score\":5,\"imageStatus\":1,\"usefulVoteCount\":0,\"userClient\":4,\"discussionId\":1474293365,\"imageCount\":2,\"anonymousFlag\":1,\"plusAvailable\":201,\"mobileVersion\":\"12.4.1\",\"images\":[{\"id\":-1804166463,\"imgUrl\":\"//img30.360buyimg.com/n0/s128x96_jfs/t1/108911/37/48015/49316/65e5f4bfF83a169ef/ecf43e738995a040.jpg\",\"imgTitle\":\"\",\"status\":0},{\"id\":-1804166462,\"imgUrl\":\"//img30.360buyimg.com/n0/s128x96_jfs/t1/130829/27/42061/38768/65e5f4c0Fd8c17443/52f9be7881b816f9.jpg\",\"imgTitle\":\"\",\"status\":0}],\"mergeOrderStatus\":2,\"productColor\":\"黑色\",\"productSize\":\"128GB\",\"textIntegral\":20,\"imageIntegral\":0,\"ownId\":1000000127,\"ownType\":0,\"extMap\":{\"buyCount\":75},\"location\":\"湖北\",\"status\":1,\"referenceId\":\"100066896356\",\"referenceTime\":\"2024-03-02 13:49:29\",\"nickname\":\"s***d\",\"replyCount2\":0,\"userImage\":\"misc.360buyimg.com/user/myjd-2015/css/i/peisong.jpg\",\"orderId\":0,\"integral\":20,\"productSales\":\"[{\\\\\"dim\\\\\":3,\\\\\"saleName\\\\\":\\\\\"购买方式\\\\\",\\\\\"saleValue\\\\\":\\\\\"公开版\\\\\"}]\",\"referenceImage\":\"jfs/t1/228582/16/12657/36408/65dea63cF5089f750/125476edcaeed3a3.jpg\",\"referenceName\":\"Apple/苹果 iPhone 15 (A3092) 128GB 粉色 支持移动联通电信5G 双卡双待手机\",\"firstCategory\":9987,\"secondCategory\":653,\"thirdCategory\":655,\"aesPin\":null,\"days\":3,\"afterDays\":0},{\"id\":20542162435,\"guid\":\"432b487fdf9428b497e54c28657f54af\",\"content\":\"外形外观：超赞\\\\n屏幕音效：音效音质好\\\\n拍照效果：不错\\\\n运行速度：非常快极其流畅\\\\n待机时间：还不错\\\\n其他特色：与其他苹果设备无缝衔接\\\\n不愧是京东自营的产品，物流速度很快，客服服务态度很好，必须支持京东自营\",\"creationTime\":\"2024-03-05 00:19:50\",\"isDelete\":false,\"isTop\":false,\"userImageUrl\":\"misc.360buyimg.com/user/myjd-2015/css/i/peisong.jpg\",\"topped\":0,\"replyCount\":0,\"score\":5,\"imageStatus\":1,\"usefulVoteCount\":0,\"userClient\":4,\"discussionId\":1474294940,\"imageCount\":2,\"anonymousFlag\":1,\"plusAvailable\":201,\"mobileVersion\":\"12.4.1\",\"images\":[{\"id\":-1804166908,\"imgUrl\":\"//img30.360buyimg.com/n0/s128x96_jfs/t1/131634/21/42116/38768/65e5f4a5F3109ca7a/465413c45a21fd26.jpg\",\"imgTitle\":\"\",\"status\":0},{\"id\":-1804166907,\"imgUrl\":\"//img30.360buyimg.com/n0/s128x96_jfs/t1/101463/25/47672/49316/65e5f4a6Fe353bd87/23a37a1e5156f27d.jpg\",\"imgTitle\":\"\",\"status\":0}],\"mergeOrderStatus\":2,\"productColor\":\"蓝色\",\"productSize\":\"128GB\",\"textIntegral\":40,\"imageIntegral\":40,\"ownId\":1000000127,\"ownType\":0,\"extMap\":{\"buyCount\":75},\"location\":\"湖北\",\"status\":1,\"referenceId\":\"100066896464\",\"referenceTime\":\"2024-03-01 00:42:36\",\"nickname\":\"s***d\",\"replyCount2\":0,\"userImage\":\"misc.360buyimg.com/user/myjd-2015/css/i/peisong.jpg\",\"orderId\":0,\"integral\":80,\"productSales\":\"[{\\\\\"dim\\\\\":3,\\\\\"saleName\\\\\":\\\\\"购买方式\\\\\",\\\\\"saleValue\\\\\":\\\\\"公开版\\\\\"}]\",\"referenceImage\":\"jfs/t1/228582/16/12657/36408/65dea63cF5089f750/125476edcaeed3a3.jpg\",\"referenceName\":\"Apple/苹果 iPhone 15 (A3092) 128GB 粉色 支持移动联通电信5G 双卡双待手机\",\"firstCategory\":9987,\"secondCategory\":653,\"thirdCategory\":655,\"aesPin\":null,\"days\":4,\"afterDays\":0}],\"soType\":6,\"csv\":\"NOTHING\",\"imageListCount\":500,\"hotCommentTagStatistics\":[{\"id\":\"a2cc2478caba42fc\",\"name\":\"时尚美观\",\"count\":443,\"type\":4,\"canBeFiltered\":true,\"stand\":1,\"rid\":\"a2cc2478caba42fc\",\"ckeKeyWordBury\":\"eid=104^^tagid=a2cc2478caba42fc^^pid=20001^^sku=100066896214^^sversion=1000^^token=89f242f247819340\"},{\"id\":\"88a3a45c74511b8c\",\"name\":\"颜色绚丽\",\"count\":409,\"type\":4,\"canBeFiltered\":true,\"stand\":1,\"rid\":\"88a3a45c74511b8c\",\"ckeKeyWordBury\":\"eid=104^^tagid=88a3a45c74511b8c^^pid=20001^^sku=100066896214^^sversion=1000^^token=965ce2ef2ac0ce9e\"},{\"id\":\"46b8794c559a8dc7\",\"name\":\"漂亮大方\",\"count\":293,\"type\":4,\"canBeFiltered\":true,\"stand\":1,\"rid\":\"46b8794c559a8dc7\",\"ckeKeyWordBury\":\"eid=104^^tagid=46b8794c559a8dc7^^pid=20001^^sku=100066896214^^sversion=1000^^token=f4e6822395a0fc06\"},{\"id\":\"2487c0f9e595f04d\",\"name\":\"手感一流\",\"count\":165,\"type\":4,\"canBeFiltered\":true,\"stand\":1,\"rid\":\"2487c0f9e595f04d\",\"ckeKeyWordBury\":\"eid=104^^tagid=2487c0f9e595f04d^^pid=20001^^sku=100066896214^^sversion=1000^^token=021b13dccd1e0a31\"},{\"id\":\"439dae00d907aa92\",\"name\":\"性能一流\",\"count\":157,\"type\":4,\"canBeFiltered\":true,\"stand\":1,\"rid\":\"439dae00d907aa92\",\"ckeKeyWordBury\":\"eid=104^^tagid=439dae00d907aa92^^pid=20001^^sku=100066896214^^sversion=1000^^token=62c43339e32e0231\"},{\"id\":\"59a808b852c8f9ae\",\"name\":\"散热性佳\",\"count\":90,\"type\":4,\"canBeFiltered\":true,\"stand\":1,\"rid\":\"59a808b852c8f9ae\",\"ckeKeyWordBury\":\"eid=104^^tagid=59a808b852c8f9ae^^pid=20001^^sku=100066896214^^sversion=1000^^token=4cd23710617f04da\"},{\"id\":\"6c35b8cf25810e3c\",\"name\":\"操作简单\",\"count\":63,\"type\":4,\"canBeFiltered\":true,\"stand\":1,\"rid\":\"6c35b8cf25810e3c\",\"ckeKeyWordBury\":\"eid=104^^tagid=6c35b8cf25810e3c^^pid=20001^^sku=100066896214^^sversion=1000^^token=156b293bbf7d4dc3\"},{\"id\":\"2d6d4e05d23fe3e3\",\"name\":\"品质优良\",\"count\":50,\"type\":4,\"canBeFiltered\":true,\"stand\":1,\"rid\":\"2d6d4e05d23fe3e3\",\"ckeKeyWordBury\":\"eid=104^^tagid=2d6d4e05d23fe3e3^^pid=20001^^sku=100066896214^^sversion=1000^^token=f521fb438bb36c90\"},{\"id\":\"ef2079d29cdd617e\",\"name\":\"送给TA\",\"count\":21,\"type\":4,\"canBeFiltered\":true,\"stand\":1,\"rid\":\"ef2079d29cdd617e\",\"ckeKeyWordBury\":\"eid=104^^tagid=ef2079d29cdd617e^^pid=20001^^sku=100066896214^^sversion=1000^^token=f5c79707659f768c\"},{\"id\":\"5f96131c9c7c1d5c\",\"name\":\"畅快办公\",\"count\":5,\"type\":4,\"canBeFiltered\":true,\"stand\":1,\"rid\":\"5f96131c9c7c1d5c\",\"ckeKeyWordBury\":\"eid=104^^tagid=5f96131c9c7c1d5c^^pid=20001^^sku=100066896214^^sversion=1000^^token=7f578ea7b12fa746\"},{\"id\":\"962e66f87fb6f7d9\",\"name\":\"解锁迅速\",\"count\":2,\"type\":4,\"canBeFiltered\":true,\"stand\":1,\"rid\":\"962e66f87fb6f7d9\",\"ckeKeyWordBury\":\"eid=104^^tagid=962e66f87fb6f7d9^^pid=20001^^sku=100066896214^^sversion=1000^^token=b2e478963153d1fe\"},{\"id\":\"7b653ea03d2c9bf8\",\"name\":\"游戏上分\",\"count\":1,\"type\":4,\"canBeFiltered\":true,\"stand\":1,\"rid\":\"7b653ea03d2c9bf8\",\"ckeKeyWordBury\":\"eid=104^^tagid=7b653ea03d2c9bf8^^pid=20001^^sku=100066896214^^sversion=1000^^token=a93bb96554510c22\"},{\"id\":\"b63bedaf7bae6d83\",\"name\":\"按键清晰\",\"count\":1,\"type\":4,\"canBeFiltered\":true,\"stand\":1,\"rid\":\"b63bedaf7bae6d83\",\"ckeKeyWordBury\":\"eid=104^^tagid=b63bedaf7bae6d83^^pid=20001^^sku=100066896214^^sversion=1000^^token=fe6b83b7d38c7dbf\"}],\"testId\":\"A\",\"vTagStatistics\":null,\"maxPage\":100,\"productCommentSummary\":{\"skuId\":100066896214,\"averageScore\":5,\"defaultGoodCount\":0,\"defaultGoodCountStr\":\"100万+\",\"commentCount\":0,\"commentCountStr\":\"100万+\",\"goodCount\":0,\"goodCountStr\":\"22万+\",\"goodRate\":0.95,\"goodRateShow\":95,\"generalCount\":0,\"generalCountStr\":\"3200+\",\"generalRate\":0.013,\"generalRateShow\":1,\"poorCount\":0,\"poorCountStr\":\"8300+\",\"poorRate\":0.037,\"poorRateShow\":4,\"videoCount\":0,\"videoCountStr\":\"2300+\",\"afterCount\":0,\"afterCountStr\":\"3700+\",\"showCount\":0,\"showCountStr\":\"5.4万+\",\"oneYear\":0,\"sensitiveBook\":0,\"fixCount\":0,\"plusCount\":0,\"plusCountStr\":\"0\",\"buyerShow\":0,\"poorRateStyle\":6,\"generalRateStyle\":2,\"goodRateStyle\":142,\"installRate\":0,\"productId\":100066896214,\"score1Count\":5000,\"score2Count\":1000,\"score3Count\":2000,\"score4Count\":2000,\"score5Count\":200000},\"productAttr\":null}'"
      ]
     },
     "execution_count": 35,
     "metadata": {},
     "output_type": "execute_result"
    }
   ],
   "source": [
    "data = requests.get(url_comment1,headers = headers).text\n",
    "data"
   ]
  },
  {
   "cell_type": "markdown",
   "id": "8d9e2b61",
   "metadata": {},
   "source": [
    "### 通过正则表达式提取内容"
   ]
  },
  {
   "cell_type": "code",
   "execution_count": 37,
   "id": "d957d56b",
   "metadata": {},
   "outputs": [],
   "source": [
    "### 1.  \"content\":\"一个月在京东上买了两台15，苹果拍照果真好看\",\"creationTime\"\n",
    "### 2.   \"content\":\"(.*?)\",\"creationTime\"\n",
    "### 3.   '\"content\":\"(.*?)\",\"creationTime\"'\n",
    "comment_content = re.compile('\"content\":\"(.*?)\",\"creationTime\"')"
   ]
  },
  {
   "cell_type": "code",
   "execution_count": 38,
   "id": "1a335942",
   "metadata": {
    "scrolled": true
   },
   "outputs": [
    {
     "data": {
      "text/plain": [
       "['一个月在京东上买了两台15，苹果拍照果真好看',\n",
       " '手感非常的棒，苹果拍照实在是太好看了',\n",
       " '手机很nice，到手立马就用起来了，体验很棒',\n",
       " '包装很好，没有损毁的地方。手机参数都没错，没有配充电头，又重新买了一个，流畅谈不上，但胜在耐用。',\n",
       " '屏幕太差了，颗粒感严重，千万不要在京东上面买东西，不是特别严重的问题不给退',\n",
       " '唾沫扒拉离谱太比起比脱发考虑啥',\n",
       " '手机真心不错哦，非常喜欢',\n",
       " '不错，喜欢，帮朋友的，一天送上门，好快\\\\n不错，喜欢，帮朋友的，一天送上门，好快\\\\n不错，喜欢，帮朋友的，一天送上门，好快\\\\n不错，喜欢，帮朋友的，一天送上门，好快',\n",
       " '屏幕音效：音效音质好\\\\n拍照效果：不错\\\\n运行速度：非常快极其流畅\\\\n待机时间：还不错\\\\n其他特色：与其他苹果设备无缝衔接\\\\n不愧是京东自营的产品，物流速度很快，客服服务态度很好，必须支持京东自营',\n",
       " '外形外观：超赞\\\\n屏幕音效：音效音质好\\\\n拍照效果：不错\\\\n运行速度：非常快极其流畅\\\\n待机时间：还不错\\\\n其他特色：与其他苹果设备无缝衔接\\\\n不愧是京东自营的产品，物流速度很快，客服服务态度很好，必须支持京东自营']"
      ]
     },
     "execution_count": 38,
     "metadata": {},
     "output_type": "execute_result"
    }
   ],
   "source": [
    "### 按照规则找出评论\n",
    "comment_content.findall(data)"
   ]
  },
  {
   "cell_type": "markdown",
   "id": "027e3392",
   "metadata": {},
   "source": [
    "# 这只是提取了一个页面的评论"
   ]
  },
  {
   "cell_type": "code",
   "execution_count": 1,
   "id": "434110df",
   "metadata": {},
   "outputs": [],
   "source": [
    "import pandas as pd"
   ]
  },
  {
   "cell_type": "code",
   "execution_count": 3,
   "id": "83dcac3c",
   "metadata": {},
   "outputs": [],
   "source": [
    "### 创建空数据表\n",
    "df_comment = pd.DataFrame()"
   ]
  },
  {
   "cell_type": "code",
   "execution_count": 4,
   "id": "2ff0c0ec",
   "metadata": {},
   "outputs": [],
   "source": [
    "text_content = []"
   ]
  },
  {
   "cell_type": "code",
   "execution_count": 5,
   "id": "dfde2079",
   "metadata": {},
   "outputs": [
    {
     "ename": "NameError",
     "evalue": "name 'comment_content' is not defined",
     "output_type": "error",
     "traceback": [
      "\u001b[1;31m---------------------------------------------------------------------------\u001b[0m",
      "\u001b[1;31mNameError\u001b[0m                                 Traceback (most recent call last)",
      "Cell \u001b[1;32mIn[5], line 1\u001b[0m\n\u001b[1;32m----> 1\u001b[0m text_content\u001b[38;5;241m.\u001b[39mextend(comment_content\u001b[38;5;241m.\u001b[39mfindall(data))\n",
      "\u001b[1;31mNameError\u001b[0m: name 'comment_content' is not defined"
     ]
    }
   ],
   "source": [
    "text_content.extend(comment_content.findall(data))"
   ]
  },
  {
   "cell_type": "code",
   "execution_count": null,
   "id": "376b21b1",
   "metadata": {},
   "outputs": [],
   "source": []
  }
 ],
 "metadata": {
  "kernelspec": {
   "display_name": "Python 3 (ipykernel)",
   "language": "python",
   "name": "python3"
  },
  "language_info": {
   "codemirror_mode": {
    "name": "ipython",
    "version": 3
   },
   "file_extension": ".py",
   "mimetype": "text/x-python",
   "name": "python",
   "nbconvert_exporter": "python",
   "pygments_lexer": "ipython3",
   "version": "3.11.3"
  }
 },
 "nbformat": 4,
 "nbformat_minor": 5
}
