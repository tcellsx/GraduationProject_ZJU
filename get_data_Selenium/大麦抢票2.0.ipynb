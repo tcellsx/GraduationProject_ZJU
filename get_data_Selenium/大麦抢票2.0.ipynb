{
 "cells": [
  {
   "cell_type": "code",
   "execution_count": 1,
   "id": "479a2761",
   "metadata": {},
   "outputs": [
    {
     "name": "stderr",
     "output_type": "stream",
     "text": [
      "The chromedriver version (115.0.5790.170) detected in PATH at D:\\Jupyter_reptile\\get_data_Selenium\\chromedriver.exe might not be compatible with the detected chrome version (116.0.5845.182); currently, chromedriver 116.0.5845.96 is recommended for chrome 116.*, so it is advised to delete the driver in PATH and retry\n"
     ]
    }
   ],
   "source": [
    "from selenium import webdriver\n",
    "from selenium.webdriver.common.by import By\n",
    "options = webdriver.ChromeOptions()\n",
    "options.add_experimental_option('excludeSwitches',['enable-automation'])\n",
    "prefs = {'credentials_enable_service':False,'profile.password_manager_enable':False}\n",
    "options.add_experimental_option('prefs',prefs)\n",
    "options.add_argument('--disable-blink-features=AutomationControlled')\n",
    "driver = webdriver.Chrome(options = options)\n",
    "f = open('stealth.min.js',mode='r',encoding='utf-8').read()\n",
    "driver.execute_cdp_cmd('Page.addScriptToEvaluateOnNewDocument',{'source':f})\n",
    "url = \"https://passport.damai.cn/login?ru=https%3A%2F%2Fwww.damai.cn%2F\"\n",
    "driver.get(url)"
   ]
  },
  {
   "cell_type": "markdown",
   "id": "4b6cc5e4",
   "metadata": {},
   "source": [
    "### 手动登陆一下"
   ]
  },
  {
   "cell_type": "code",
   "execution_count": 3,
   "id": "e83071b4",
   "metadata": {
    "scrolled": false
   },
   "outputs": [
    {
     "ename": "NoSuchElementException",
     "evalue": "Message: no such element: Unable to locate element: {\"method\":\"xpath\",\"selector\":\"/html/body/div[2]/div/div[1]/div[1]/div/div[2]/div[4]/div[6]/div[2]/div/div/a[2]\"}\n  (Session info: chrome=116.0.5845.182); For documentation on this error, please visit: https://www.selenium.dev/documentation/webdriver/troubleshooting/errors#no-such-element-exception\nStacktrace:\nBacktrace:\n\tGetHandleVerifier [0x00007FF68E554A62+57106]\n\t(No symbol) [0x00007FF68E4CCF52]\n\t(No symbol) [0x00007FF68E39E2CB]\n\t(No symbol) [0x00007FF68E3D786E]\n\t(No symbol) [0x00007FF68E3D795C]\n\t(No symbol) [0x00007FF68E410477]\n\t(No symbol) [0x00007FF68E3F69FF]\n\t(No symbol) [0x00007FF68E40E522]\n\t(No symbol) [0x00007FF68E3F6793]\n\t(No symbol) [0x00007FF68E3CCE81]\n\t(No symbol) [0x00007FF68E3CE064]\n\tGetHandleVerifier [0x00007FF68E804222+2873042]\n\tGetHandleVerifier [0x00007FF68E856590+3209792]\n\tGetHandleVerifier [0x00007FF68E84F3AF+3180639]\n\tGetHandleVerifier [0x00007FF68E5E5F25+652245]\n\t(No symbol) [0x00007FF68E4D8618]\n\t(No symbol) [0x00007FF68E4D47C4]\n\t(No symbol) [0x00007FF68E4D48BC]\n\t(No symbol) [0x00007FF68E4C4C33]\n\tBaseThreadInitThunk [0x00007FF8DD0F26AD+29]\n\tRtlUserThreadStart [0x00007FF8DEF8AA68+40]\n",
     "output_type": "error",
     "traceback": [
      "\u001b[1;31m---------------------------------------------------------------------------\u001b[0m",
      "\u001b[1;31mNoSuchElementException\u001b[0m                    Traceback (most recent call last)",
      "Cell \u001b[1;32mIn[3], line 9\u001b[0m\n\u001b[0;32m      7\u001b[0m \u001b[38;5;66;03m###此处需要修改网址\u001b[39;00m\n\u001b[0;32m      8\u001b[0m driver\u001b[38;5;241m.\u001b[39mget(url_pay)\n\u001b[1;32m----> 9\u001b[0m driver\u001b[38;5;241m.\u001b[39mfind_element(By\u001b[38;5;241m.\u001b[39mXPATH,\u001b[38;5;124m\"\u001b[39m\u001b[38;5;124m/html/body/div[2]/div/div[1]/div[1]/div/div[2]/div[4]/div[6]/div[2]/div/div/a[2]\u001b[39m\u001b[38;5;124m\"\u001b[39m)\u001b[38;5;241m.\u001b[39mclick()\n\u001b[0;32m     10\u001b[0m driver\u001b[38;5;241m.\u001b[39mfind_element(By\u001b[38;5;241m.\u001b[39mXPATH,\u001b[38;5;124m\"\u001b[39m\u001b[38;5;124m/html/body/div[2]/div/div[1]/div[1]/div/div[2]/div[4]/div[10]/div/div[3]/div[3]\u001b[39m\u001b[38;5;124m\"\u001b[39m)\u001b[38;5;241m.\u001b[39mclick()\n\u001b[0;32m     11\u001b[0m \u001b[38;5;28;01mimport\u001b[39;00m \u001b[38;5;21;01mtime\u001b[39;00m\n",
      "File \u001b[1;32mD:\\anaconda\\Lib\\site-packages\\selenium\\webdriver\\remote\\webdriver.py:739\u001b[0m, in \u001b[0;36mWebDriver.find_element\u001b[1;34m(self, by, value)\u001b[0m\n\u001b[0;32m    736\u001b[0m     by \u001b[38;5;241m=\u001b[39m By\u001b[38;5;241m.\u001b[39mCSS_SELECTOR\n\u001b[0;32m    737\u001b[0m     value \u001b[38;5;241m=\u001b[39m \u001b[38;5;124mf\u001b[39m\u001b[38;5;124m'\u001b[39m\u001b[38;5;124m[name=\u001b[39m\u001b[38;5;124m\"\u001b[39m\u001b[38;5;132;01m{\u001b[39;00mvalue\u001b[38;5;132;01m}\u001b[39;00m\u001b[38;5;124m\"\u001b[39m\u001b[38;5;124m]\u001b[39m\u001b[38;5;124m'\u001b[39m\n\u001b[1;32m--> 739\u001b[0m \u001b[38;5;28;01mreturn\u001b[39;00m \u001b[38;5;28mself\u001b[39m\u001b[38;5;241m.\u001b[39mexecute(Command\u001b[38;5;241m.\u001b[39mFIND_ELEMENT, {\u001b[38;5;124m\"\u001b[39m\u001b[38;5;124musing\u001b[39m\u001b[38;5;124m\"\u001b[39m: by, \u001b[38;5;124m\"\u001b[39m\u001b[38;5;124mvalue\u001b[39m\u001b[38;5;124m\"\u001b[39m: value})[\u001b[38;5;124m\"\u001b[39m\u001b[38;5;124mvalue\u001b[39m\u001b[38;5;124m\"\u001b[39m]\n",
      "File \u001b[1;32mD:\\anaconda\\Lib\\site-packages\\selenium\\webdriver\\remote\\webdriver.py:345\u001b[0m, in \u001b[0;36mWebDriver.execute\u001b[1;34m(self, driver_command, params)\u001b[0m\n\u001b[0;32m    343\u001b[0m response \u001b[38;5;241m=\u001b[39m \u001b[38;5;28mself\u001b[39m\u001b[38;5;241m.\u001b[39mcommand_executor\u001b[38;5;241m.\u001b[39mexecute(driver_command, params)\n\u001b[0;32m    344\u001b[0m \u001b[38;5;28;01mif\u001b[39;00m response:\n\u001b[1;32m--> 345\u001b[0m     \u001b[38;5;28mself\u001b[39m\u001b[38;5;241m.\u001b[39merror_handler\u001b[38;5;241m.\u001b[39mcheck_response(response)\n\u001b[0;32m    346\u001b[0m     response[\u001b[38;5;124m\"\u001b[39m\u001b[38;5;124mvalue\u001b[39m\u001b[38;5;124m\"\u001b[39m] \u001b[38;5;241m=\u001b[39m \u001b[38;5;28mself\u001b[39m\u001b[38;5;241m.\u001b[39m_unwrap_value(response\u001b[38;5;241m.\u001b[39mget(\u001b[38;5;124m\"\u001b[39m\u001b[38;5;124mvalue\u001b[39m\u001b[38;5;124m\"\u001b[39m, \u001b[38;5;28;01mNone\u001b[39;00m))\n\u001b[0;32m    347\u001b[0m     \u001b[38;5;28;01mreturn\u001b[39;00m response\n",
      "File \u001b[1;32mD:\\anaconda\\Lib\\site-packages\\selenium\\webdriver\\remote\\errorhandler.py:229\u001b[0m, in \u001b[0;36mErrorHandler.check_response\u001b[1;34m(self, response)\u001b[0m\n\u001b[0;32m    227\u001b[0m         alert_text \u001b[38;5;241m=\u001b[39m value[\u001b[38;5;124m\"\u001b[39m\u001b[38;5;124malert\u001b[39m\u001b[38;5;124m\"\u001b[39m]\u001b[38;5;241m.\u001b[39mget(\u001b[38;5;124m\"\u001b[39m\u001b[38;5;124mtext\u001b[39m\u001b[38;5;124m\"\u001b[39m)\n\u001b[0;32m    228\u001b[0m     \u001b[38;5;28;01mraise\u001b[39;00m exception_class(message, screen, stacktrace, alert_text)  \u001b[38;5;66;03m# type: ignore[call-arg]  # mypy is not smart enough here\u001b[39;00m\n\u001b[1;32m--> 229\u001b[0m \u001b[38;5;28;01mraise\u001b[39;00m exception_class(message, screen, stacktrace)\n",
      "\u001b[1;31mNoSuchElementException\u001b[0m: Message: no such element: Unable to locate element: {\"method\":\"xpath\",\"selector\":\"/html/body/div[2]/div/div[1]/div[1]/div/div[2]/div[4]/div[6]/div[2]/div/div/a[2]\"}\n  (Session info: chrome=116.0.5845.182); For documentation on this error, please visit: https://www.selenium.dev/documentation/webdriver/troubleshooting/errors#no-such-element-exception\nStacktrace:\nBacktrace:\n\tGetHandleVerifier [0x00007FF68E554A62+57106]\n\t(No symbol) [0x00007FF68E4CCF52]\n\t(No symbol) [0x00007FF68E39E2CB]\n\t(No symbol) [0x00007FF68E3D786E]\n\t(No symbol) [0x00007FF68E3D795C]\n\t(No symbol) [0x00007FF68E410477]\n\t(No symbol) [0x00007FF68E3F69FF]\n\t(No symbol) [0x00007FF68E40E522]\n\t(No symbol) [0x00007FF68E3F6793]\n\t(No symbol) [0x00007FF68E3CCE81]\n\t(No symbol) [0x00007FF68E3CE064]\n\tGetHandleVerifier [0x00007FF68E804222+2873042]\n\tGetHandleVerifier [0x00007FF68E856590+3209792]\n\tGetHandleVerifier [0x00007FF68E84F3AF+3180639]\n\tGetHandleVerifier [0x00007FF68E5E5F25+652245]\n\t(No symbol) [0x00007FF68E4D8618]\n\t(No symbol) [0x00007FF68E4D47C4]\n\t(No symbol) [0x00007FF68E4D48BC]\n\t(No symbol) [0x00007FF68E4C4C33]\n\tBaseThreadInitThunk [0x00007FF8DD0F26AD+29]\n\tRtlUserThreadStart [0x00007FF8DEF8AA68+40]\n"
     ]
    }
   ],
   "source": [
    "driver.get('https://www.damai.cn/')\n",
    "import datetime\n",
    "###整点就把minute改成hour\n",
    "while datetime.datetime.now().hour < 18:\n",
    "    continue;\n",
    "url_pay = \"https://item.damai.cn/item/project.htm?spm=a2oeg.search_category.0.0.5fa628df8rpjT9&id=217440008&clicktitle=%E5%91%A8%E6%9D%B0%E4%BC%A6%E3%80%90%E5%98%89%E5%B9%B4%E5%8D%8E%E3%80%91%E4%B8%96%E7%95%8C%E5%B7%A1%E5%9B%9E%E6%BC%94%E5%94%B1%E4%BC%9A%20%E4%B8%8A%E6%B5%B7%E7%AB%99\"\n",
    "###此处需要修改网址\n",
    "driver.get(url_pay)\n",
    "driver.find_element(By.XPATH,\"/html/body/div[2]/div/div[1]/div[1]/div/div[2]/div[4]/div[6]/div[2]/div/div/a[2]\").click()\n",
    "driver.find_element(By.XPATH,\"/html/body/div[2]/div/div[1]/div[1]/div/div[2]/div[4]/div[10]/div/div[3]/div[3]\").click()\n",
    "import time\n",
    "time.sleep(0.5)\n",
    "driver.find_element(By.XPATH,\"/html/body/div[2]/div/div[4]/div[2]/div/div/input\").send_keys(\"唐晓斌\")\n",
    "driver.find_element(By.XPATH,\"/html/body/div[2]/div/div[2]/div[2]/div/div[1]/div[3]/i\").click()\n",
    "driver.find_element(By.XPATH,\"/html/body/div[2]/div/div[2]/div[2]/div/div[2]/div[3]/i\").click()\n",
    "driver.find_element(By.XPATH,\"/html/body/div[2]/div/div[6]/div[2]/div/div[2]/div[3]/div[2]\").click()"
   ]
  },
  {
   "cell_type": "code",
   "execution_count": null,
   "id": "f9d63009",
   "metadata": {},
   "outputs": [],
   "source": []
  }
 ],
 "metadata": {
  "kernelspec": {
   "display_name": "Python 3 (ipykernel)",
   "language": "python",
   "name": "python3"
  },
  "language_info": {
   "codemirror_mode": {
    "name": "ipython",
    "version": 3
   },
   "file_extension": ".py",
   "mimetype": "text/x-python",
   "name": "python",
   "nbconvert_exporter": "python",
   "pygments_lexer": "ipython3",
   "version": "3.11.3"
  }
 },
 "nbformat": 4,
 "nbformat_minor": 5
}
