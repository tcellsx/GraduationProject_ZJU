{
 "cells": [
  {
   "cell_type": "markdown",
   "id": "0df21003",
   "metadata": {},
   "source": [
    "### Cookie特性\n",
    "#### 服务器返回\n",
    "#### 存储在浏览器当中\n",
    "#### 支持过期,具有时效性"
   ]
  },
  {
   "cell_type": "code",
   "execution_count": 1,
   "id": "89ed3b80",
   "metadata": {},
   "outputs": [],
   "source": [
    "from selenium import webdriver"
   ]
  },
  {
   "cell_type": "code",
   "execution_count": 2,
   "id": "cb857e02",
   "metadata": {},
   "outputs": [],
   "source": [
    "driver = webdriver.Chrome()"
   ]
  },
  {
   "cell_type": "code",
   "execution_count": 3,
   "id": "0d94635f",
   "metadata": {},
   "outputs": [],
   "source": [
    "url = \"https://passport.xinpianchang.com/login?redirect_uri=https%3A%2F%2Fwww.xinpianchang.com%2F&mode=quick\""
   ]
  },
  {
   "cell_type": "code",
   "execution_count": 4,
   "id": "a1cbaee5",
   "metadata": {},
   "outputs": [],
   "source": [
    "driver.get(url)"
   ]
  },
  {
   "cell_type": "markdown",
   "id": "76e38f40",
   "metadata": {},
   "source": [
    "### 打开页面手动登陆\n",
    "#### 登陆完成后提取cookie"
   ]
  },
  {
   "cell_type": "code",
   "execution_count": 6,
   "id": "79a9a7b2",
   "metadata": {},
   "outputs": [],
   "source": [
    "cookies = driver.get_cookies()"
   ]
  },
  {
   "cell_type": "markdown",
   "id": "5bf48c2b",
   "metadata": {},
   "source": [
    "### 将数据进行JSON的序列化，转化成文本进行存储"
   ]
  },
  {
   "cell_type": "code",
   "execution_count": 8,
   "id": "6a39618c",
   "metadata": {},
   "outputs": [],
   "source": [
    "import json"
   ]
  },
  {
   "cell_type": "code",
   "execution_count": 9,
   "id": "1fe82222",
   "metadata": {},
   "outputs": [],
   "source": [
    "cookies_str = json.dumps(cookies)"
   ]
  },
  {
   "cell_type": "markdown",
   "id": "cea59d0e",
   "metadata": {},
   "source": [
    "### 使用文件存储将字符串存到文件当中"
   ]
  },
  {
   "cell_type": "code",
   "execution_count": 10,
   "id": "ae9db594",
   "metadata": {},
   "outputs": [],
   "source": [
    "with open(\"xinpianchang_cookies.txt\",\"w\",encoding=\"utf-8\") as file:\n",
    "    file.write(cookies_str)"
   ]
  }
 ],
 "metadata": {
  "kernelspec": {
   "display_name": "Python 3 (ipykernel)",
   "language": "python",
   "name": "python3"
  },
  "language_info": {
   "codemirror_mode": {
    "name": "ipython",
    "version": 3
   },
   "file_extension": ".py",
   "mimetype": "text/x-python",
   "name": "python",
   "nbconvert_exporter": "python",
   "pygments_lexer": "ipython3",
   "version": "3.11.3"
  }
 },
 "nbformat": 4,
 "nbformat_minor": 5
}
