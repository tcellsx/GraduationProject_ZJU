{
 "cells": [
  {
   "cell_type": "markdown",
   "id": "e2b517c9",
   "metadata": {},
   "source": [
    "### 数据提取\n",
    "#### 在响应当中提取，格式：JSON、HTML、XML\n",
    "#### 实现方式\n",
    "- 正则表达式\n",
    "- 截取\n",
    "- XPath\n",
    "- Css\n",
    "- Bs4\n"
   ]
  },
  {
   "cell_type": "markdown",
   "id": "610345c2",
   "metadata": {},
   "source": [
    "### XPath\n",
    "#### 需要安装  。\n",
    "#### 掌握XPath的规则（https://www.w3school.com.cn/xpath/index.asp   有官方文档）。\n",
    "#### 不只是XML可以同时兼容HTML。\n",
    "#### 语法规则：节点+谓语基本够用。\n",
    "\n",
    "### JSON格式\n",
    "#### python当中的字典，列表。"
   ]
  },
  {
   "cell_type": "code",
   "execution_count": 1,
   "id": "c962dd7e",
   "metadata": {},
   "outputs": [
    {
     "name": "stdout",
     "output_type": "stream",
     "text": [
      "Requirement already satisfied: lxml in d:\\anaconda\\lib\\site-packages (4.9.2)\n"
     ]
    }
   ],
   "source": [
    "!pip install lxml"
   ]
  },
  {
   "cell_type": "code",
   "execution_count": 2,
   "id": "d439b35b",
   "metadata": {},
   "outputs": [],
   "source": [
    "import requests"
   ]
  },
  {
   "cell_type": "code",
   "execution_count": 3,
   "id": "5c7e01a4",
   "metadata": {},
   "outputs": [],
   "source": [
    "headers = {\n",
    "    \"User-Agent\":\"Mozilla/5.0 (Windows NT 10.0; Win64; x64) AppleWebKit/537.36 (KHTML, like Gecko) Chrome/115.0.0.0 Safari/537.36\"\n",
    "}"
   ]
  },
  {
   "cell_type": "code",
   "execution_count": 4,
   "id": "419bc67e",
   "metadata": {},
   "outputs": [],
   "source": [
    "url = \"https://www.xinpianchang.com/discover/article?from=navigator\""
   ]
  },
  {
   "cell_type": "code",
   "execution_count": 5,
   "id": "1f595180",
   "metadata": {},
   "outputs": [],
   "source": [
    "response = requests.request(\"GET\",url,headers=headers)"
   ]
  },
  {
   "cell_type": "code",
   "execution_count": 6,
   "id": "fd8d6ec7",
   "metadata": {},
   "outputs": [
    {
     "data": {
      "text/plain": [
       "<Response [200]>"
      ]
     },
     "execution_count": 6,
     "metadata": {},
     "output_type": "execute_result"
    }
   ],
   "source": [
    "response"
   ]
  },
  {
   "cell_type": "markdown",
   "id": "00e0164c",
   "metadata": {},
   "source": [
    "### 构建XPath对象"
   ]
  },
  {
   "cell_type": "code",
   "execution_count": 7,
   "id": "7e531258",
   "metadata": {},
   "outputs": [],
   "source": [
    "from lxml import etree"
   ]
  },
  {
   "cell_type": "code",
   "execution_count": 8,
   "id": "8dd64899",
   "metadata": {
    "scrolled": true
   },
   "outputs": [],
   "source": [
    "tree = etree.HTML(response.text) ###etree表示elements tree 元素树"
   ]
  },
  {
   "cell_type": "markdown",
   "id": "7215eecd",
   "metadata": {},
   "source": [
    "### 使用XPath规则进行提取"
   ]
  },
  {
   "cell_type": "code",
   "execution_count": 9,
   "id": "72cebac1",
   "metadata": {},
   "outputs": [],
   "source": [
    "elements = tree.xpath('//h2[@class=\"truncate block\"]')"
   ]
  },
  {
   "cell_type": "code",
   "execution_count": 10,
   "id": "aba9cfe0",
   "metadata": {},
   "outputs": [],
   "source": [
    "ele = elements[0]"
   ]
  },
  {
   "cell_type": "code",
   "execution_count": 11,
   "id": "4e1352e8",
   "metadata": {},
   "outputs": [
    {
     "data": {
      "text/plain": [
       "'我都上班6天了，潮汕人怎么还在过年？所以真正的潮汕，是什么样？'"
      ]
     },
     "execution_count": 11,
     "metadata": {},
     "output_type": "execute_result"
    }
   ],
   "source": [
    "ele.text"
   ]
  },
  {
   "cell_type": "code",
   "execution_count": 14,
   "id": "ce0f46a9",
   "metadata": {
    "collapsed": true
   },
   "outputs": [
    {
     "name": "stdout",
     "output_type": "stream",
     "text": [
      "欧拉好猫 |  # 爱在每时每刻\n",
      "天猫超市新疆面粉溯源TVC《麦田守望者》导演版DIR VERSION\n",
      "雨眠\n",
      "韩束KANS 2023七夕 特别企划三部曲 爱是期待、爱是奔赴、爱是陪伴\n",
      "饿了么 |  这杯我禅了 「秋天第一杯佛系奶茶」Dir\n",
      "广汽传祺｜新一代M8大师发布TVC\n",
      "珠江啤酒 PEARL RIVER\n",
      "《丫鬟的浴光宝物》无冷感热水器 - Midea\n",
      "山西大同文旅宣传片\n",
      "YILI｜中国女足场上见｜场下也能见\n",
      "MG动画国潮风【中行智慧金融大脑】科技风MG动画\n",
      "专治神经病\n",
      "我用半年时间把朋友的爱情拍成电影\n",
      "混剪 | 一条关于汽车剪辑的剪辑\n",
      "放肆玩，一起玩\n",
      "别克E4 | 外观篇Dir（非商业使用）\n",
      "夏天只做一件事｜去感受，去享受，去记录\n",
      "vivo X90s  一「镜」入夏\n",
      "甘南旅拍｜心之所向，与自然加冕\n",
      "Midea | 趁当夏，chill一下~\n",
      "城市招商宣传片《昆山金千灯》\n",
      "爱慕先生·先生的乘凉进阶式 DIRCut\n",
      "Bottega Veneta 23 七夕｜TOWARDS YOU\n",
      "企业宣传片《苏州银行十周年》\n",
      "宣传片制作思路分享2\n",
      "Woman's Life｜这是你的故事\n",
      "【摄影教程】小团队护肤广告拍摄幕后 | 设备&布光经验分享\n",
      "马思唯 - 明天 Official Music Video\n",
      "a2 x 檀健次《原生纯萃》阿卡贝拉 Ft.NewVorld\n",
      "自制文旅创意短片 | 山西运城《好事多馍》\n",
      "广州城市宣传片 「使至广州」Dir\n",
      "DEERHEAD SHOWREEL声音分享\n",
      "纯干货丨6种电影感运镜教程，迅速提升影片质感！！\n",
      "中免日上品牌TVC｜〇意念 美无界  #Dir.cut\n",
      "成都倒计时3000年（成都第31届世界大学生夏季运动会 x 星球研究所）\n",
      "致敬新海诚：打开往门，奔赴三年之约【关西旅拍】\n",
      "小红书 · 马路生活节\n",
      "福建文旅2023宣传片  官方玩梗最为致命\n",
      "成都大运会｜《与青羊 共大运》DirCut\n",
      "电影《封神》第一部视效特辑\n",
      "笑着笑着就哭了，新手如何运用这些技巧拍出一支青春毕业短片？\n",
      "给你影片的音效，打开思路\n",
      "0成本！拍出机械臂运镜｜Ai影视创作教学\n",
      "【大疆DJI Air3】去更远的地方，见更远的光。\n",
      "TCL 企业形象宣传片《穿越海平线》\n",
      "滴滴青桔\n",
      "安踏 | 要疯淘金\n",
      "你肯定会看第二遍！创意广告《偷》\n",
      "Panasonic吹护机｜DIR版\n",
      "顾家家居｜生活的小小支点\n",
      "只用字，做个高端宣传片\n",
      "成都大运会宣传片《蜀道开大运来》【4K】\n",
      "如何用不同的视角？创作产品视频！\n",
      "《Nike》你的感受只取决于你自己\n",
      "想学合成？\n",
      "INTOYOU X Van Gogh Collaboration\n",
      "意外转场！运动广告《应有尽有》\n",
      "央视宣传片《我是谁》\n",
      "《不只有人》\n",
      "创意拼贴动画短片《一眼看尽芝加哥》\n"
     ]
    }
   ],
   "source": [
    "for element in elements:\n",
    "    print (element.text)"
   ]
  },
  {
   "cell_type": "code",
   "execution_count": 17,
   "id": "270fda0b",
   "metadata": {},
   "outputs": [],
   "source": [
    "elements1 = tree.xpath('//*[@id=\"__next\"]/section/main/div/div/div/div/div/a/div/ul/li/span')"
   ]
  },
  {
   "cell_type": "code",
   "execution_count": 18,
   "id": "6fd6d705",
   "metadata": {},
   "outputs": [
    {
     "data": {
      "text/plain": [
       "'播放：'"
      ]
     },
     "execution_count": 18,
     "metadata": {},
     "output_type": "execute_result"
    }
   ],
   "source": [
    "elements1[0].text"
   ]
  },
  {
   "cell_type": "code",
   "execution_count": 19,
   "id": "fb6e32ea",
   "metadata": {},
   "outputs": [
    {
     "data": {
      "text/plain": [
       "'14.3w'"
      ]
     },
     "execution_count": 19,
     "metadata": {},
     "output_type": "execute_result"
    }
   ],
   "source": [
    "elements1[1].text"
   ]
  },
  {
   "cell_type": "code",
   "execution_count": 21,
   "id": "936397c8",
   "metadata": {},
   "outputs": [
    {
     "data": {
      "text/plain": [
       "60"
      ]
     },
     "execution_count": 21,
     "metadata": {},
     "output_type": "execute_result"
    }
   ],
   "source": [
    "len(elements)"
   ]
  },
  {
   "cell_type": "code",
   "execution_count": 22,
   "id": "85a124f2",
   "metadata": {},
   "outputs": [
    {
     "data": {
      "text/plain": [
       "240"
      ]
     },
     "execution_count": 22,
     "metadata": {},
     "output_type": "execute_result"
    }
   ],
   "source": [
    "len(elements1)"
   ]
  },
  {
   "cell_type": "code",
   "execution_count": 27,
   "id": "444714a5",
   "metadata": {},
   "outputs": [],
   "source": [
    "elements1_1 = tree.xpath('//*[@id=\"__next\"]/section/main/div/div/div/div/div/a/div/ul/li/span[@class != \"sr-only\"]')"
   ]
  },
  {
   "cell_type": "code",
   "execution_count": 28,
   "id": "9f247698",
   "metadata": {
    "collapsed": true
   },
   "outputs": [
    {
     "ename": "IndexError",
     "evalue": "list index out of range",
     "output_type": "error",
     "traceback": [
      "\u001b[1;31m---------------------------------------------------------------------------\u001b[0m",
      "\u001b[1;31mIndexError\u001b[0m                                Traceback (most recent call last)",
      "Cell \u001b[1;32mIn[28], line 1\u001b[0m\n\u001b[1;32m----> 1\u001b[0m elements1_1[\u001b[38;5;241m0\u001b[39m]\u001b[38;5;241m.\u001b[39mtext\n",
      "\u001b[1;31mIndexError\u001b[0m: list index out of range"
     ]
    }
   ],
   "source": [
    "elements1_1[0].text"
   ]
  },
  {
   "cell_type": "code",
   "execution_count": 29,
   "id": "399a251b",
   "metadata": {},
   "outputs": [
    {
     "data": {
      "text/plain": [
       "0"
      ]
     },
     "execution_count": 29,
     "metadata": {},
     "output_type": "execute_result"
    }
   ],
   "source": [
    "len(elements1_1)"
   ]
  },
  {
   "cell_type": "code",
   "execution_count": 30,
   "id": "a13176fa",
   "metadata": {},
   "outputs": [],
   "source": [
    "elements1_2 = tree.xpath('//*[@id=\"__next\"]/section/main/div/div/div/div/div/a/div/ul/li/span[@class = \"\"]')"
   ]
  },
  {
   "cell_type": "code",
   "execution_count": 31,
   "id": "4fa62da7",
   "metadata": {
    "collapsed": true
   },
   "outputs": [
    {
     "ename": "IndexError",
     "evalue": "list index out of range",
     "output_type": "error",
     "traceback": [
      "\u001b[1;31m---------------------------------------------------------------------------\u001b[0m",
      "\u001b[1;31mIndexError\u001b[0m                                Traceback (most recent call last)",
      "Cell \u001b[1;32mIn[31], line 1\u001b[0m\n\u001b[1;32m----> 1\u001b[0m elements1_2[\u001b[38;5;241m0\u001b[39m]\u001b[38;5;241m.\u001b[39mtext\n",
      "\u001b[1;31mIndexError\u001b[0m: list index out of range"
     ]
    }
   ],
   "source": [
    "elements1_2[0].text"
   ]
  },
  {
   "cell_type": "code",
   "execution_count": 32,
   "id": "b58ab3a4",
   "metadata": {},
   "outputs": [
    {
     "data": {
      "text/plain": [
       "0"
      ]
     },
     "execution_count": 32,
     "metadata": {},
     "output_type": "execute_result"
    }
   ],
   "source": [
    "len(elements1_2)"
   ]
  },
  {
   "cell_type": "code",
   "execution_count": 33,
   "id": "98af001f",
   "metadata": {},
   "outputs": [],
   "source": [
    "elements1_3 = tree.xpath('//*[@id=\"__next\"]/section/main/div/div/div/div/div/a/div/ul/li/span[@class = \"sr-only\"]')"
   ]
  },
  {
   "cell_type": "code",
   "execution_count": 34,
   "id": "57e74c26",
   "metadata": {},
   "outputs": [
    {
     "data": {
      "text/plain": [
       "'播放：'"
      ]
     },
     "execution_count": 34,
     "metadata": {},
     "output_type": "execute_result"
    }
   ],
   "source": [
    "elements1_3[0].text"
   ]
  },
  {
   "cell_type": "code",
   "execution_count": 35,
   "id": "96e3f4e6",
   "metadata": {},
   "outputs": [
    {
     "data": {
      "text/plain": [
       "120"
      ]
     },
     "execution_count": 35,
     "metadata": {},
     "output_type": "execute_result"
    }
   ],
   "source": [
    "len(elements1_3)"
   ]
  },
  {
   "cell_type": "markdown",
   "id": "8810e458",
   "metadata": {},
   "source": [
    "### 规范的做法\n",
    "#### 上面非规范的使用鼠标右击copy了XPath"
   ]
  },
  {
   "cell_type": "code",
   "execution_count": 38,
   "id": "d2b9a033",
   "metadata": {},
   "outputs": [],
   "source": [
    "vedio_list = tree.xpath('//main/div/div[contains(@class,\"grid\")]')[0]"
   ]
  },
  {
   "cell_type": "code",
   "execution_count": 40,
   "id": "6f2effb7",
   "metadata": {},
   "outputs": [],
   "source": [
    "vedio_list_content = vedio_list.xpath('./div')"
   ]
  },
  {
   "cell_type": "code",
   "execution_count": 41,
   "id": "83deeb8a",
   "metadata": {},
   "outputs": [],
   "source": [
    "vedio_detail = vedio_list_content[0]"
   ]
  },
  {
   "cell_type": "code",
   "execution_count": 48,
   "id": "aaeb8266",
   "metadata": {},
   "outputs": [],
   "source": [
    "vedio_title = vedio_detail.xpath('./div/div/div/a/h2/text()')"
   ]
  },
  {
   "cell_type": "code",
   "execution_count": 49,
   "id": "79a19b84",
   "metadata": {},
   "outputs": [
    {
     "data": {
      "text/plain": [
       "['欧拉好猫 |  # 爱在每时每刻']"
      ]
     },
     "execution_count": 49,
     "metadata": {},
     "output_type": "execute_result"
    }
   ],
   "source": [
    "vedio_title"
   ]
  },
  {
   "cell_type": "code",
   "execution_count": 65,
   "id": "712b030c",
   "metadata": {
    "scrolled": true
   },
   "outputs": [],
   "source": [
    "vedio_play_count = vedio_detail.xpath('./div/div/a/div/ul/li[1]/span[2]/text()')"
   ]
  },
  {
   "cell_type": "code",
   "execution_count": 66,
   "id": "c1eb79c7",
   "metadata": {},
   "outputs": [
    {
     "data": {
      "text/plain": [
       "['14.3w']"
      ]
     },
     "execution_count": 66,
     "metadata": {},
     "output_type": "execute_result"
    }
   ],
   "source": [
    "vedio_play_count"
   ]
  },
  {
   "cell_type": "code",
   "execution_count": 67,
   "id": "62482647",
   "metadata": {},
   "outputs": [],
   "source": [
    "vedio_prise_count = vedio_play_count = vedio_detail.xpath('./div/div/a/div/ul/li[2]/span[2]/text()')"
   ]
  },
  {
   "cell_type": "code",
   "execution_count": 68,
   "id": "35afef98",
   "metadata": {
    "scrolled": true
   },
   "outputs": [
    {
     "data": {
      "text/plain": [
       "['888']"
      ]
     },
     "execution_count": 68,
     "metadata": {},
     "output_type": "execute_result"
    }
   ],
   "source": [
    "vedio_prise_count"
   ]
  },
  {
   "cell_type": "markdown",
   "id": "a49d62bf",
   "metadata": {},
   "source": [
    "### 整合一下"
   ]
  },
  {
   "cell_type": "code",
   "execution_count": 70,
   "id": "3356c459",
   "metadata": {},
   "outputs": [
    {
     "name": "stdout",
     "output_type": "stream",
     "text": [
      "['欧拉好猫 |  # 爱在每时每刻'] ['14.3w'] ['888']\n",
      "['天猫超市新疆面粉溯源TVC《麦田守望者》导演版DIR VERSION'] ['16.5w'] ['1253']\n",
      "['雨眠'] ['15.1w'] ['1382']\n",
      "['韩束KANS 2023七夕 特别企划三部曲 爱是期待、爱是奔赴、爱是陪伴'] ['2.6w'] ['195']\n",
      "['饿了么 |  这杯我禅了 「秋天第一杯佛系奶茶」Dir'] ['9.1w'] ['713']\n",
      "['广汽传祺｜新一代M8大师发布TVC'] ['9890'] ['80']\n",
      "['珠江啤酒 PEARL RIVER'] ['9517'] ['70']\n",
      "['《丫鬟的浴光宝物》无冷感热水器 - Midea'] ['2.7w'] ['143']\n",
      "['山西大同文旅宣传片'] ['18.2w'] ['1460']\n",
      "['YILI｜中国女足场上见｜场下也能见'] ['3.4w'] ['273']\n",
      "['MG动画国潮风【中行智慧金融大脑】科技风MG动画'] ['9624'] ['130']\n",
      "['专治神经病'] ['2.6w'] ['150']\n",
      "['我用半年时间把朋友的爱情拍成电影'] ['6.1w'] ['488']\n",
      "['混剪 | 一条关于汽车剪辑的剪辑'] ['4.5w'] ['342']\n",
      "['放肆玩，一起玩'] ['5.4w'] ['425']\n",
      "['别克E4 | 外观篇Dir（非商业使用）'] ['6.4w'] ['308']\n",
      "['夏天只做一件事｜去感受，去享受，去记录'] ['3.7w'] ['296']\n",
      "['vivo X90s  一「镜」入夏'] ['7.5w'] ['592']\n",
      "['甘南旅拍｜心之所向，与自然加冕'] ['3.7w'] ['272']\n",
      "['Midea | 趁当夏，chill一下~'] ['3.6w'] ['281']\n",
      "['城市招商宣传片《昆山金千灯》'] ['5997'] ['66']\n",
      "['爱慕先生·先生的乘凉进阶式 DIRCut'] ['4.3w'] ['331']\n",
      "['Bottega Veneta 23 七夕｜TOWARDS YOU'] ['13.4w'] ['1076']\n",
      "['企业宣传片《苏州银行十周年》'] ['5997'] ['64']\n",
      "['宣传片制作思路分享2'] ['6w'] ['477']\n",
      "[\"Woman's Life｜这是你的故事\"] ['95.7w'] ['7674']\n",
      "['【摄影教程】小团队护肤广告拍摄幕后 | 设备&布光经验分享'] ['3.2w'] ['259']\n",
      "['马思唯 - 明天 Official Music Video'] ['9732'] ['67']\n",
      "['a2 x 檀健次《原生纯萃》阿卡贝拉 Ft.NewVorld'] ['4.6w'] ['299']\n",
      "['自制文旅创意短片 | 山西运城《好事多馍》'] ['2.7w'] ['144']\n",
      "['广州城市宣传片 「使至广州」Dir'] ['4.9w'] ['101']\n",
      "['DEERHEAD SHOWREEL声音分享'] ['16.2w'] ['1289']\n",
      "['纯干货丨6种电影感运镜教程，迅速提升影片质感！！'] ['5.9w'] ['626']\n",
      "['中免日上品牌TVC｜〇意念 美无界  #Dir.cut'] ['22w'] ['983']\n",
      "['成都倒计时3000年（成都第31届世界大学生夏季运动会 x 星球研究所）'] ['18w'] ['1448']\n",
      "['致敬新海诚：打开往门，奔赴三年之约【关西旅拍】'] ['6.6w'] ['523']\n",
      "['小红书 · 马路生活节'] ['6.5w'] ['519']\n",
      "['福建文旅2023宣传片  官方玩梗最为致命'] ['2.8w'] ['220']\n",
      "['成都大运会｜《与青羊 共大运》DirCut'] ['12.7w'] ['1023']\n",
      "['电影《封神》第一部视效特辑'] ['4.7w'] ['372']\n",
      "['笑着笑着就哭了，新手如何运用这些技巧拍出一支青春毕业短片？'] ['1.6w'] ['133']\n",
      "['给你影片的音效，打开思路'] ['6.4w'] ['509']\n",
      "['0成本！拍出机械臂运镜｜Ai影视创作教学'] ['2.4w'] ['199']\n",
      "['【大疆DJI Air3】去更远的地方，见更远的光。'] ['4.2w'] ['330']\n",
      "['TCL 企业形象宣传片《穿越海平线》'] ['3.2w'] ['230']\n",
      "['滴滴青桔'] ['16.5w'] ['880']\n",
      "['安踏 | 要疯淘金'] ['6.8w'] ['537']\n",
      "['你肯定会看第二遍！创意广告《偷》'] ['5.8w'] ['464']\n",
      "['Panasonic吹护机｜DIR版'] ['14.6w'] ['1171']\n",
      "['顾家家居｜生活的小小支点'] ['3345'] ['35']\n",
      "['只用字，做个高端宣传片'] ['23.3w'] ['2216']\n",
      "['成都大运会宣传片《蜀道开大运来》【4K】'] ['20.5w'] ['1643']\n",
      "['如何用不同的视角？创作产品视频！'] ['3.2w'] ['257']\n",
      "['《Nike》你的感受只取决于你自己'] ['3.2w'] ['258']\n",
      "['想学合成？'] ['2.5w'] ['191']\n",
      "['INTOYOU X Van Gogh Collaboration'] ['9465'] ['35']\n",
      "['意外转场！运动广告《应有尽有》'] ['5496'] ['33']\n",
      "['央视宣传片《我是谁》'] ['107.5w'] ['8607']\n",
      "['《不只有人》'] ['5551'] ['29']\n",
      "['创意拼贴动画短片《一眼看尽芝加哥》'] ['14.2w'] ['1141']\n"
     ]
    }
   ],
   "source": [
    "for vedio in vedio_list_content:\n",
    "    vedio_title = vedio.xpath('./div/div/div/a/h2/text()')\n",
    "    vedio_play_count = vedio.xpath('./div/div/a/div/ul/li[1]/span[2]/text()')\n",
    "    vedio_prise_count = vedio.xpath('./div/div/a/div/ul/li[2]/span[2]/text()')\n",
    "    \n",
    "    print(vedio_title,vedio_play_count,vedio_prise_count)"
   ]
  }
 ],
 "metadata": {
  "kernelspec": {
   "display_name": "Python 3 (ipykernel)",
   "language": "python",
   "name": "python3"
  },
  "language_info": {
   "codemirror_mode": {
    "name": "ipython",
    "version": 3
   },
   "file_extension": ".py",
   "mimetype": "text/x-python",
   "name": "python",
   "nbconvert_exporter": "python",
   "pygments_lexer": "ipython3",
   "version": "3.11.3"
  }
 },
 "nbformat": 4,
 "nbformat_minor": 5
}
