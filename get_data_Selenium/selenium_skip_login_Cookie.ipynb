{
 "cells": [
  {
   "cell_type": "markdown",
   "id": "0d794c86",
   "metadata": {},
   "source": [
    "### 特征\n",
    "#### 不使用账号密码即可实现登陆"
   ]
  },
  {
   "cell_type": "code",
   "execution_count": 16,
   "id": "13aa43a5",
   "metadata": {},
   "outputs": [],
   "source": [
    "from selenium import webdriver"
   ]
  },
  {
   "cell_type": "code",
   "execution_count": 17,
   "id": "1d510259",
   "metadata": {},
   "outputs": [],
   "source": [
    "url = \"https://passport.xinpianchang.com/login?redirect_uri=https%3A%2F%2Fwww.xinpianchang.com%2Fuser%2F14001704&mode=quick\""
   ]
  },
  {
   "cell_type": "code",
   "execution_count": 18,
   "id": "d72542a3",
   "metadata": {},
   "outputs": [],
   "source": [
    "driver = webdriver.Chrome()"
   ]
  },
  {
   "cell_type": "code",
   "execution_count": 19,
   "id": "5bf5dc20",
   "metadata": {},
   "outputs": [],
   "source": [
    "driver.get(url)"
   ]
  },
  {
   "cell_type": "markdown",
   "id": "e3a9335b",
   "metadata": {},
   "source": [
    "### 读取存储在文件里面的Cookie"
   ]
  },
  {
   "cell_type": "code",
   "execution_count": 20,
   "id": "3d659446",
   "metadata": {},
   "outputs": [],
   "source": [
    "with open(\"xinpianchang_cookies.txt\",\"r\",encoding=\"utf-8\") as file:\n",
    "    cookies_str = file.read()"
   ]
  },
  {
   "cell_type": "markdown",
   "id": "22a38b2e",
   "metadata": {},
   "source": [
    "### 将cookies_str反序列化 使用JSON 将字符串改成JSON格式的数据"
   ]
  },
  {
   "cell_type": "code",
   "execution_count": 21,
   "id": "bc316156",
   "metadata": {},
   "outputs": [],
   "source": [
    "import json"
   ]
  },
  {
   "cell_type": "code",
   "execution_count": 22,
   "id": "37dec409",
   "metadata": {},
   "outputs": [],
   "source": [
    "cookies = json.loads(cookies_str)"
   ]
  },
  {
   "cell_type": "markdown",
   "id": "f1b6b5f7",
   "metadata": {},
   "source": [
    "### 向浏览器当中注入cookie"
   ]
  },
  {
   "cell_type": "code",
   "execution_count": 25,
   "id": "d99e20ce",
   "metadata": {},
   "outputs": [],
   "source": [
    "for cookie in cookies:\n",
    "    try:\n",
    "        driver.add_cookie(cookie)\n",
    "    except Exception as e:\n",
    "        print(e)"
   ]
  },
  {
   "cell_type": "code",
   "execution_count": 24,
   "id": "f4f3fc66",
   "metadata": {},
   "outputs": [],
   "source": [
    "driver.get(\"https://www.xinpianchang.com/\")"
   ]
  },
  {
   "cell_type": "code",
   "execution_count": 15,
   "id": "7b3ddbfc",
   "metadata": {},
   "outputs": [],
   "source": [
    "driver.close()"
   ]
  }
 ],
 "metadata": {
  "kernelspec": {
   "display_name": "Python 3 (ipykernel)",
   "language": "python",
   "name": "python3"
  },
  "language_info": {
   "codemirror_mode": {
    "name": "ipython",
    "version": 3
   },
   "file_extension": ".py",
   "mimetype": "text/x-python",
   "name": "python",
   "nbconvert_exporter": "python",
   "pygments_lexer": "ipython3",
   "version": "3.11.3"
  }
 },
 "nbformat": 4,
 "nbformat_minor": 5
}
