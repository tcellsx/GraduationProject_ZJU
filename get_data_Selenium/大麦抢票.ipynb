{
 "cells": [
  {
   "cell_type": "code",
   "execution_count": 1,
   "id": "8e584ab4",
   "metadata": {},
   "outputs": [],
   "source": [
    "from selenium import webdriver"
   ]
  },
  {
   "cell_type": "code",
   "execution_count": 2,
   "id": "bdd90ef8",
   "metadata": {},
   "outputs": [],
   "source": [
    "from selenium.webdriver.common.by import By"
   ]
  },
  {
   "cell_type": "markdown",
   "id": "c84d0515",
   "metadata": {},
   "source": [
    "### 使用elements直接登陆失败。。。\n",
    "### 决定用获取cookie跳过的方法"
   ]
  },
  {
   "cell_type": "code",
   "execution_count": 40,
   "id": "6111f11e",
   "metadata": {},
   "outputs": [],
   "source": [
    "###driver.switch_to.frame(0)"
   ]
  },
  {
   "cell_type": "code",
   "execution_count": 41,
   "id": "b4f5b533",
   "metadata": {
    "scrolled": false
   },
   "outputs": [],
   "source": [
    "###element_login = driver.find_element(By.XPATH,'//*[@id=\"fm-login-id\"]')"
   ]
  },
  {
   "cell_type": "code",
   "execution_count": 42,
   "id": "95100894",
   "metadata": {},
   "outputs": [],
   "source": [
    "###element_login.send_keys('18752339198')"
   ]
  },
  {
   "cell_type": "code",
   "execution_count": 43,
   "id": "42a2ccd6",
   "metadata": {},
   "outputs": [],
   "source": [
    "###element_password = driver.find_element(By.XPATH,'//*[@id=\"fm-login-password\"]')"
   ]
  },
  {
   "cell_type": "code",
   "execution_count": 44,
   "id": "68b4ab9b",
   "metadata": {
    "collapsed": true
   },
   "outputs": [
    {
     "ename": "SyntaxError",
     "evalue": "invalid syntax (2911232984.py, line 1)",
     "output_type": "error",
     "traceback": [
      "\u001b[1;36m  Cell \u001b[1;32mIn[44], line 1\u001b[1;36m\u001b[0m\n\u001b[1;33m    element_password..send_keys('Damai1887415157.')\u001b[0m\n\u001b[1;37m                     ^\u001b[0m\n\u001b[1;31mSyntaxError\u001b[0m\u001b[1;31m:\u001b[0m invalid syntax\n"
     ]
    }
   ],
   "source": [
    "###element_password..send_keys('Damai1887415157.')"
   ]
  },
  {
   "cell_type": "markdown",
   "id": "afd5f2be",
   "metadata": {},
   "source": [
    "### 笑死我了cookie的界面都显示不了，先反反爬吧"
   ]
  },
  {
   "cell_type": "code",
   "execution_count": null,
   "id": "852d5131",
   "metadata": {},
   "outputs": [],
   "source": [
    "###cookies = driver.get_cookies()"
   ]
  },
  {
   "cell_type": "code",
   "execution_count": null,
   "id": "abda631d",
   "metadata": {},
   "outputs": [],
   "source": [
    "###import json"
   ]
  },
  {
   "cell_type": "code",
   "execution_count": null,
   "id": "afda5712",
   "metadata": {},
   "outputs": [],
   "source": [
    "###cookies_str = json.dumps(cookies)"
   ]
  },
  {
   "cell_type": "code",
   "execution_count": null,
   "id": "e5b2683f",
   "metadata": {},
   "outputs": [],
   "source": [
    "###with open(\"damai_cookies.txt\",\"w\",encoding=\"utf-8\") as file:\n",
    "   ### file.write(cookies_str)"
   ]
  },
  {
   "cell_type": "markdown",
   "id": "6b6a8b46",
   "metadata": {},
   "source": [
    "### 反反爬开始了"
   ]
  },
  {
   "cell_type": "code",
   "execution_count": 3,
   "id": "0fc4b491",
   "metadata": {},
   "outputs": [],
   "source": [
    "options = webdriver.ChromeOptions()"
   ]
  },
  {
   "cell_type": "code",
   "execution_count": 4,
   "id": "8992f2fa",
   "metadata": {},
   "outputs": [],
   "source": [
    "options.add_experimental_option('excludeSwitches',['enable-automation'])"
   ]
  },
  {
   "cell_type": "code",
   "execution_count": 5,
   "id": "47b70863",
   "metadata": {},
   "outputs": [],
   "source": [
    "prefs = {'credentials_enable_service':False,'profile.password_manager_enable':False}"
   ]
  },
  {
   "cell_type": "code",
   "execution_count": 6,
   "id": "98b74e69",
   "metadata": {},
   "outputs": [],
   "source": [
    "options.add_experimental_option('prefs',prefs)"
   ]
  },
  {
   "cell_type": "code",
   "execution_count": 7,
   "id": "b28dd535",
   "metadata": {},
   "outputs": [],
   "source": [
    "options.add_argument('--disable-blink-features=AutomationControlled')"
   ]
  },
  {
   "cell_type": "code",
   "execution_count": 8,
   "id": "739d44fb",
   "metadata": {
    "scrolled": true
   },
   "outputs": [],
   "source": [
    "driver = webdriver.Chrome(options = options)"
   ]
  },
  {
   "cell_type": "code",
   "execution_count": 9,
   "id": "0505eb57",
   "metadata": {},
   "outputs": [],
   "source": [
    "f = open('stealth.min.js',mode='r',encoding='utf-8').read()"
   ]
  },
  {
   "cell_type": "code",
   "execution_count": 10,
   "id": "f94ca997",
   "metadata": {},
   "outputs": [
    {
     "data": {
      "text/plain": [
       "{'identifier': '2'}"
      ]
     },
     "execution_count": 10,
     "metadata": {},
     "output_type": "execute_result"
    }
   ],
   "source": [
    "driver.execute_cdp_cmd('Page.addScriptToEvaluateOnNewDocument',{'source':f})"
   ]
  },
  {
   "cell_type": "code",
   "execution_count": 11,
   "id": "7a4fdf11",
   "metadata": {},
   "outputs": [],
   "source": [
    "url = \"https://passport.damai.cn/login?ru=https%3A%2F%2Fwww.damai.cn%2F\""
   ]
  },
  {
   "cell_type": "code",
   "execution_count": 12,
   "id": "63a2f64c",
   "metadata": {},
   "outputs": [],
   "source": [
    "driver.get(url)"
   ]
  },
  {
   "cell_type": "markdown",
   "id": "5c7ff1b9",
   "metadata": {},
   "source": [
    "### 说实话稍微有点用，但是可恶密码还是输不上去，决定再次使用cookie大法"
   ]
  },
  {
   "cell_type": "code",
   "execution_count": 64,
   "id": "e6fe6a29",
   "metadata": {},
   "outputs": [],
   "source": [
    "###driver.switch_to.frame(0)"
   ]
  },
  {
   "cell_type": "code",
   "execution_count": 65,
   "id": "0baaf6c8",
   "metadata": {},
   "outputs": [],
   "source": [
    "###element_login = driver.find_element(By.XPATH,'//*[@id=\"fm-login-id\"]')"
   ]
  },
  {
   "cell_type": "code",
   "execution_count": 66,
   "id": "10b51f95",
   "metadata": {},
   "outputs": [],
   "source": [
    "###element_login.send_keys('18752339198')"
   ]
  },
  {
   "cell_type": "code",
   "execution_count": 67,
   "id": "34c8b906",
   "metadata": {},
   "outputs": [],
   "source": [
    "###element_password = driver.find_element(By.XPATH,'//*[@id=\"fm-login-password\"]')"
   ]
  },
  {
   "cell_type": "code",
   "execution_count": 69,
   "id": "e80d697a",
   "metadata": {
    "collapsed": true
   },
   "outputs": [
    {
     "ename": "SyntaxError",
     "evalue": "invalid syntax (2911232984.py, line 1)",
     "output_type": "error",
     "traceback": [
      "\u001b[1;36m  Cell \u001b[1;32mIn[69], line 1\u001b[1;36m\u001b[0m\n\u001b[1;33m    element_password..send_keys('Damai1887415157.')\u001b[0m\n\u001b[1;37m                     ^\u001b[0m\n\u001b[1;31mSyntaxError\u001b[0m\u001b[1;31m:\u001b[0m invalid syntax\n"
     ]
    }
   ],
   "source": [
    "###element_password..send_keys('Damai1887415157.')"
   ]
  },
  {
   "cell_type": "code",
   "execution_count": 33,
   "id": "f9c95fd2",
   "metadata": {},
   "outputs": [],
   "source": [
    "###cookies = driver.get_cookies()"
   ]
  },
  {
   "cell_type": "code",
   "execution_count": 34,
   "id": "7466dfc4",
   "metadata": {},
   "outputs": [],
   "source": [
    "###import json"
   ]
  },
  {
   "cell_type": "code",
   "execution_count": 35,
   "id": "9e8ba11a",
   "metadata": {},
   "outputs": [],
   "source": [
    "###cookies_str = json.dumps(cookies)"
   ]
  },
  {
   "cell_type": "code",
   "execution_count": 36,
   "id": "e3feb2ba",
   "metadata": {},
   "outputs": [],
   "source": [
    "###with open(\"damai_cookies.txt\",\"w\",encoding=\"utf-8\") as file:\n",
    "  ###file.write(cookies_str)"
   ]
  },
  {
   "cell_type": "markdown",
   "id": "4660d3a2",
   "metadata": {},
   "source": [
    "### 上面的是截取cookie，我现在尝试直接使用cookie跳过登陆"
   ]
  },
  {
   "cell_type": "code",
   "execution_count": 37,
   "id": "8c080e40",
   "metadata": {},
   "outputs": [],
   "source": [
    "###with open(\"xinpianchang_cookies.txt\",\"r\",encoding=\"utf-8\") as file:\n",
    "    ###cookies_str = file.read()"
   ]
  },
  {
   "cell_type": "code",
   "execution_count": 38,
   "id": "665a05c7",
   "metadata": {},
   "outputs": [],
   "source": [
    "###cookies = json.loads(cookies_str)"
   ]
  },
  {
   "cell_type": "code",
   "execution_count": 39,
   "id": "adb28452",
   "metadata": {},
   "outputs": [],
   "source": [
    "###for cookie in cookies:\n",
    "    ###try:\n",
    "        ###driver.add_cookie(cookie)\n",
    "    ###except Exception as e:\n",
    "        ###print(e)"
   ]
  },
  {
   "cell_type": "code",
   "execution_count": 23,
   "id": "864c929b",
   "metadata": {},
   "outputs": [],
   "source": [
    "###driver.get('https://www.damai.cn/')"
   ]
  },
  {
   "cell_type": "markdown",
   "id": "d7d30bab",
   "metadata": {},
   "source": [
    "## 依旧失败 我败北了吗？好像是的"
   ]
  },
  {
   "cell_type": "markdown",
   "id": "5fa8eeac",
   "metadata": {},
   "source": [
    "## 隔天，感觉可以直接手动登录，然后到另外一个页面以后操作应该影响不大"
   ]
  },
  {
   "cell_type": "code",
   "execution_count": 13,
   "id": "40a46f57",
   "metadata": {},
   "outputs": [],
   "source": [
    "driver.get('https://www.damai.cn/')"
   ]
  },
  {
   "cell_type": "code",
   "execution_count": 14,
   "id": "94b03bc4",
   "metadata": {},
   "outputs": [],
   "source": [
    "url_pay = \"https://detail.damai.cn/item.htm?spm=a2oeg.home.card_0.ditem_4.6a8423e1r6CqLJ&id=731743228760\""
   ]
  },
  {
   "cell_type": "code",
   "execution_count": 15,
   "id": "fb8c70da",
   "metadata": {},
   "outputs": [],
   "source": [
    "driver.get(url_pay)"
   ]
  },
  {
   "cell_type": "markdown",
   "id": "0e058add",
   "metadata": {},
   "source": [
    "### 点击一下增加票"
   ]
  },
  {
   "cell_type": "code",
   "execution_count": 16,
   "id": "b4f54846",
   "metadata": {},
   "outputs": [],
   "source": [
    "driver.find_element(By.XPATH,\"/html/body/div[2]/div/div[1]/div[1]/div/div[2]/div[4]/div[6]/div[2]/div/div/a[2]\").click()"
   ]
  },
  {
   "cell_type": "markdown",
   "id": "705fe5d9",
   "metadata": {},
   "source": [
    "### 点击购买"
   ]
  },
  {
   "cell_type": "code",
   "execution_count": 17,
   "id": "304530c7",
   "metadata": {},
   "outputs": [],
   "source": [
    "driver.find_element(By.XPATH,\"/html/body/div[2]/div/div[1]/div[1]/div/div[2]/div[4]/div[10]/div/div[3]/div[3]\").click()"
   ]
  },
  {
   "cell_type": "markdown",
   "id": "544da780",
   "metadata": {},
   "source": [
    "### 添加联系人"
   ]
  },
  {
   "cell_type": "code",
   "execution_count": 18,
   "id": "5ee97c96",
   "metadata": {
    "scrolled": false
   },
   "outputs": [],
   "source": [
    "driver.find_element(By.XPATH,\"/html/body/div[2]/div/div[4]/div[2]/div/div/input\").send_keys(\"唐晓斌\")"
   ]
  },
  {
   "cell_type": "markdown",
   "id": "86bb764e",
   "metadata": {},
   "source": [
    "### 选择观影人"
   ]
  },
  {
   "cell_type": "code",
   "execution_count": 19,
   "id": "2c015231",
   "metadata": {},
   "outputs": [],
   "source": [
    "driver.find_element(By.XPATH,\"/html/body/div[2]/div/div[2]/div[2]/div/div[1]/div[3]/i\").click()"
   ]
  },
  {
   "cell_type": "code",
   "execution_count": 20,
   "id": "34bb8d81",
   "metadata": {},
   "outputs": [],
   "source": [
    "driver.find_element(By.XPATH,\"/html/body/div[2]/div/div[2]/div[2]/div/div[2]/div[3]/i\").click()"
   ]
  },
  {
   "cell_type": "markdown",
   "id": "1d9491c1",
   "metadata": {},
   "source": [
    "### 提交订单"
   ]
  },
  {
   "cell_type": "code",
   "execution_count": 21,
   "id": "cbbeddd0",
   "metadata": {},
   "outputs": [],
   "source": [
    "driver.find_element(By.XPATH,\"/html/body/div[2]/div/div[6]/div[2]/div/div[2]/div[3]/div[2]\").click()"
   ]
  }
 ],
 "metadata": {
  "kernelspec": {
   "display_name": "Python 3 (ipykernel)",
   "language": "python",
   "name": "python3"
  },
  "language_info": {
   "codemirror_mode": {
    "name": "ipython",
    "version": 3
   },
   "file_extension": ".py",
   "mimetype": "text/x-python",
   "name": "python",
   "nbconvert_exporter": "python",
   "pygments_lexer": "ipython3",
   "version": "3.11.3"
  }
 },
 "nbformat": 4,
 "nbformat_minor": 5
}
